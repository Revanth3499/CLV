{
 "cells": [
  {
   "cell_type": "markdown",
   "id": "89a35abd",
   "metadata": {
    "id": "ee14081c"
   },
   "source": [
    "## Importing Libraries"
   ]
  },
  {
   "cell_type": "code",
   "execution_count": null,
   "id": "0aba7735",
   "metadata": {},
   "outputs": [],
   "source": [
    "import pandas as pd\n",
    "import numpy as np\n",
    "\n",
    "from IPython.display import Image\n",
    "from sklearn.model_selection import train_test_split\n",
    "from sklearn.preprocessing import StandardScaler,MinMaxScaler\n",
    "from sklearn.preprocessing import OneHotEncoder\n",
    "from sklearn.metrics import mean_squared_error\n",
    "from sklearn.impute import SimpleImputer\n",
    "\n",
    "import matplotlib.pyplot as plt\n",
    "from sklearn.ensemble import AdaBoostClassifier\n",
    "from sklearn.model_selection import GridSearchCV\n",
    "import seaborn as sns\n",
    "\n",
    "from sklearn.tree import DecisionTreeClassifier, export_graphviz\n",
    "import graphviz\n",
    "\n",
    "from sklearn.ensemble import RandomForestClassifier\n",
    "from sklearn.ensemble import GradientBoostingClassifier\n",
    "from sklearn.metrics import r2_score\n",
    "\n",
    "import warnings\n",
    "warnings.filterwarnings('ignore')\n",
    "plt.rcParams[\"figure.figsize\"] = (10,8)\n"
   ]
  },
  {
   "cell_type": "code",
   "execution_count": 153,
   "id": "bd25e451",
   "metadata": {
    "id": "bd25e451"
   },
   "outputs": [],
   "source": [
    "train=pd.read_csv(\"/content/train-1574429526318.csv\",na_values=\"?\")\n",
    "test=pd.read_csv(\"/content/test-1574429501088.csv\",na_values=\"?\")\n",
    "sub=pd.read_csv(\"/content/sample_submission-1577482703002.csv\")"
   ]
  },
  {
   "cell_type": "code",
   "execution_count": 154,
   "id": "0bec17fb",
   "metadata": {
    "colab": {
     "base_uri": "https://localhost:8080/",
     "height": 404
    },
    "id": "0bec17fb",
    "outputId": "f28be8c6-260b-40e1-e042-38469256a0c1"
   },
   "outputs": [
    {
     "data": {
      "text/html": [
       "\n",
       "  <div id=\"df-52625250-065f-44d0-9a96-3f2f42a0d4a3\">\n",
       "    <div class=\"colab-df-container\">\n",
       "      <div>\n",
       "<style scoped>\n",
       "    .dataframe tbody tr th:only-of-type {\n",
       "        vertical-align: middle;\n",
       "    }\n",
       "\n",
       "    .dataframe tbody tr th {\n",
       "        vertical-align: top;\n",
       "    }\n",
       "\n",
       "    .dataframe thead th {\n",
       "        text-align: right;\n",
       "    }\n",
       "</style>\n",
       "<table border=\"1\" class=\"dataframe\">\n",
       "  <thead>\n",
       "    <tr style=\"text-align: right;\">\n",
       "      <th></th>\n",
       "      <th>CustomerID</th>\n",
       "      <th>Customer.Lifetime.Value</th>\n",
       "      <th>Coverage</th>\n",
       "      <th>Education</th>\n",
       "      <th>EmploymentStatus</th>\n",
       "      <th>Gender</th>\n",
       "      <th>Income</th>\n",
       "      <th>Location.Geo</th>\n",
       "      <th>Location.Code</th>\n",
       "      <th>Marital.Status</th>\n",
       "      <th>...</th>\n",
       "      <th>Months.Since.Policy.Inception</th>\n",
       "      <th>Number.of.Open.Complaints</th>\n",
       "      <th>Number.of.Policies</th>\n",
       "      <th>Policy.Type</th>\n",
       "      <th>Policy</th>\n",
       "      <th>Renew.Offer.Type</th>\n",
       "      <th>Sales.Channel</th>\n",
       "      <th>Total.Claim.Amount</th>\n",
       "      <th>Vehicle.Class</th>\n",
       "      <th>Vehicle.Size</th>\n",
       "    </tr>\n",
       "  </thead>\n",
       "  <tbody>\n",
       "    <tr>\n",
       "      <th>0</th>\n",
       "      <td>5917</td>\n",
       "      <td>7824.372789</td>\n",
       "      <td>Basic</td>\n",
       "      <td>Bachelor</td>\n",
       "      <td>Unemployed</td>\n",
       "      <td>F</td>\n",
       "      <td>0.0</td>\n",
       "      <td>17.7,77.7</td>\n",
       "      <td>Urban</td>\n",
       "      <td>Married</td>\n",
       "      <td>...</td>\n",
       "      <td>33</td>\n",
       "      <td>NaN</td>\n",
       "      <td>2.0</td>\n",
       "      <td>Personal Auto</td>\n",
       "      <td>Personal L2</td>\n",
       "      <td>Offer2</td>\n",
       "      <td>Branch</td>\n",
       "      <td>267.214383</td>\n",
       "      <td>Four-Door Car</td>\n",
       "      <td>2.0</td>\n",
       "    </tr>\n",
       "    <tr>\n",
       "      <th>1</th>\n",
       "      <td>2057</td>\n",
       "      <td>8005.964669</td>\n",
       "      <td>Basic</td>\n",
       "      <td>College</td>\n",
       "      <td>Employed</td>\n",
       "      <td>M</td>\n",
       "      <td>63357.0</td>\n",
       "      <td>28.8,76.6</td>\n",
       "      <td>Suburban</td>\n",
       "      <td>Married</td>\n",
       "      <td>...</td>\n",
       "      <td>42</td>\n",
       "      <td>0.0</td>\n",
       "      <td>5.0</td>\n",
       "      <td>Personal Auto</td>\n",
       "      <td>Personal L2</td>\n",
       "      <td>Offer2</td>\n",
       "      <td>Agent</td>\n",
       "      <td>565.508572</td>\n",
       "      <td>SUV</td>\n",
       "      <td>2.0</td>\n",
       "    </tr>\n",
       "    <tr>\n",
       "      <th>2</th>\n",
       "      <td>4119</td>\n",
       "      <td>8646.504109</td>\n",
       "      <td>Basic</td>\n",
       "      <td>High School or Below</td>\n",
       "      <td>Employed</td>\n",
       "      <td>F</td>\n",
       "      <td>64125.0</td>\n",
       "      <td>21.6,88.4</td>\n",
       "      <td>Urban</td>\n",
       "      <td>Married</td>\n",
       "      <td>...</td>\n",
       "      <td>44</td>\n",
       "      <td>0.0</td>\n",
       "      <td>3.0</td>\n",
       "      <td>Personal Auto</td>\n",
       "      <td>Personal L1</td>\n",
       "      <td>Offer2</td>\n",
       "      <td>Branch</td>\n",
       "      <td>369.818708</td>\n",
       "      <td>SUV</td>\n",
       "      <td>1.0</td>\n",
       "    </tr>\n",
       "    <tr>\n",
       "      <th>3</th>\n",
       "      <td>1801</td>\n",
       "      <td>9294.088719</td>\n",
       "      <td>Basic</td>\n",
       "      <td>College</td>\n",
       "      <td>Employed</td>\n",
       "      <td>M</td>\n",
       "      <td>67544.0</td>\n",
       "      <td>19,72.5</td>\n",
       "      <td>Suburban</td>\n",
       "      <td>Married</td>\n",
       "      <td>...</td>\n",
       "      <td>15</td>\n",
       "      <td>NaN</td>\n",
       "      <td>3.0</td>\n",
       "      <td>Corporate Auto</td>\n",
       "      <td>Corporate L3</td>\n",
       "      <td>Offer1</td>\n",
       "      <td>Branch</td>\n",
       "      <td>556.800000</td>\n",
       "      <td>SUV</td>\n",
       "      <td>3.0</td>\n",
       "    </tr>\n",
       "    <tr>\n",
       "      <th>4</th>\n",
       "      <td>9618</td>\n",
       "      <td>5595.971365</td>\n",
       "      <td>Basic</td>\n",
       "      <td>Bachelor</td>\n",
       "      <td>Retired</td>\n",
       "      <td>F</td>\n",
       "      <td>19651.0</td>\n",
       "      <td>19.1,74.7</td>\n",
       "      <td>Suburban</td>\n",
       "      <td>Married</td>\n",
       "      <td>...</td>\n",
       "      <td>68</td>\n",
       "      <td>0.0</td>\n",
       "      <td>5.0</td>\n",
       "      <td>Personal Auto</td>\n",
       "      <td>Personal L1</td>\n",
       "      <td>Offer2</td>\n",
       "      <td>Web</td>\n",
       "      <td>345.600000</td>\n",
       "      <td>Two-Door Car</td>\n",
       "      <td>3.0</td>\n",
       "    </tr>\n",
       "  </tbody>\n",
       "</table>\n",
       "<p>5 rows × 22 columns</p>\n",
       "</div>\n",
       "      <button class=\"colab-df-convert\" onclick=\"convertToInteractive('df-52625250-065f-44d0-9a96-3f2f42a0d4a3')\"\n",
       "              title=\"Convert this dataframe to an interactive table.\"\n",
       "              style=\"display:none;\">\n",
       "        \n",
       "  <svg xmlns=\"http://www.w3.org/2000/svg\" height=\"24px\"viewBox=\"0 0 24 24\"\n",
       "       width=\"24px\">\n",
       "    <path d=\"M0 0h24v24H0V0z\" fill=\"none\"/>\n",
       "    <path d=\"M18.56 5.44l.94 2.06.94-2.06 2.06-.94-2.06-.94-.94-2.06-.94 2.06-2.06.94zm-11 1L8.5 8.5l.94-2.06 2.06-.94-2.06-.94L8.5 2.5l-.94 2.06-2.06.94zm10 10l.94 2.06.94-2.06 2.06-.94-2.06-.94-.94-2.06-.94 2.06-2.06.94z\"/><path d=\"M17.41 7.96l-1.37-1.37c-.4-.4-.92-.59-1.43-.59-.52 0-1.04.2-1.43.59L10.3 9.45l-7.72 7.72c-.78.78-.78 2.05 0 2.83L4 21.41c.39.39.9.59 1.41.59.51 0 1.02-.2 1.41-.59l7.78-7.78 2.81-2.81c.8-.78.8-2.07 0-2.86zM5.41 20L4 18.59l7.72-7.72 1.47 1.35L5.41 20z\"/>\n",
       "  </svg>\n",
       "      </button>\n",
       "      \n",
       "  <style>\n",
       "    .colab-df-container {\n",
       "      display:flex;\n",
       "      flex-wrap:wrap;\n",
       "      gap: 12px;\n",
       "    }\n",
       "\n",
       "    .colab-df-convert {\n",
       "      background-color: #E8F0FE;\n",
       "      border: none;\n",
       "      border-radius: 50%;\n",
       "      cursor: pointer;\n",
       "      display: none;\n",
       "      fill: #1967D2;\n",
       "      height: 32px;\n",
       "      padding: 0 0 0 0;\n",
       "      width: 32px;\n",
       "    }\n",
       "\n",
       "    .colab-df-convert:hover {\n",
       "      background-color: #E2EBFA;\n",
       "      box-shadow: 0px 1px 2px rgba(60, 64, 67, 0.3), 0px 1px 3px 1px rgba(60, 64, 67, 0.15);\n",
       "      fill: #174EA6;\n",
       "    }\n",
       "\n",
       "    [theme=dark] .colab-df-convert {\n",
       "      background-color: #3B4455;\n",
       "      fill: #D2E3FC;\n",
       "    }\n",
       "\n",
       "    [theme=dark] .colab-df-convert:hover {\n",
       "      background-color: #434B5C;\n",
       "      box-shadow: 0px 1px 3px 1px rgba(0, 0, 0, 0.15);\n",
       "      filter: drop-shadow(0px 1px 2px rgba(0, 0, 0, 0.3));\n",
       "      fill: #FFFFFF;\n",
       "    }\n",
       "  </style>\n",
       "\n",
       "      <script>\n",
       "        const buttonEl =\n",
       "          document.querySelector('#df-52625250-065f-44d0-9a96-3f2f42a0d4a3 button.colab-df-convert');\n",
       "        buttonEl.style.display =\n",
       "          google.colab.kernel.accessAllowed ? 'block' : 'none';\n",
       "\n",
       "        async function convertToInteractive(key) {\n",
       "          const element = document.querySelector('#df-52625250-065f-44d0-9a96-3f2f42a0d4a3');\n",
       "          const dataTable =\n",
       "            await google.colab.kernel.invokeFunction('convertToInteractive',\n",
       "                                                     [key], {});\n",
       "          if (!dataTable) return;\n",
       "\n",
       "          const docLinkHtml = 'Like what you see? Visit the ' +\n",
       "            '<a target=\"_blank\" href=https://colab.research.google.com/notebooks/data_table.ipynb>data table notebook</a>'\n",
       "            + ' to learn more about interactive tables.';\n",
       "          element.innerHTML = '';\n",
       "          dataTable['output_type'] = 'display_data';\n",
       "          await google.colab.output.renderOutput(dataTable, element);\n",
       "          const docLink = document.createElement('div');\n",
       "          docLink.innerHTML = docLinkHtml;\n",
       "          element.appendChild(docLink);\n",
       "        }\n",
       "      </script>\n",
       "    </div>\n",
       "  </div>\n",
       "  "
      ],
      "text/plain": [
       "   CustomerID  Customer.Lifetime.Value Coverage             Education  \\\n",
       "0        5917              7824.372789    Basic              Bachelor   \n",
       "1        2057              8005.964669    Basic               College   \n",
       "2        4119              8646.504109    Basic  High School or Below   \n",
       "3        1801              9294.088719    Basic               College   \n",
       "4        9618              5595.971365    Basic              Bachelor   \n",
       "\n",
       "  EmploymentStatus Gender   Income Location.Geo Location.Code Marital.Status  \\\n",
       "0       Unemployed      F      0.0    17.7,77.7         Urban        Married   \n",
       "1         Employed      M  63357.0    28.8,76.6      Suburban        Married   \n",
       "2         Employed      F  64125.0    21.6,88.4         Urban        Married   \n",
       "3         Employed      M  67544.0      19,72.5      Suburban        Married   \n",
       "4          Retired      F  19651.0    19.1,74.7      Suburban        Married   \n",
       "\n",
       "   ...  Months.Since.Policy.Inception  Number.of.Open.Complaints  \\\n",
       "0  ...                             33                        NaN   \n",
       "1  ...                             42                        0.0   \n",
       "2  ...                             44                        0.0   \n",
       "3  ...                             15                        NaN   \n",
       "4  ...                             68                        0.0   \n",
       "\n",
       "   Number.of.Policies     Policy.Type        Policy Renew.Offer.Type  \\\n",
       "0                 2.0   Personal Auto   Personal L2           Offer2   \n",
       "1                 5.0   Personal Auto   Personal L2           Offer2   \n",
       "2                 3.0   Personal Auto   Personal L1           Offer2   \n",
       "3                 3.0  Corporate Auto  Corporate L3           Offer1   \n",
       "4                 5.0   Personal Auto   Personal L1           Offer2   \n",
       "\n",
       "  Sales.Channel Total.Claim.Amount  Vehicle.Class  Vehicle.Size  \n",
       "0        Branch         267.214383  Four-Door Car           2.0  \n",
       "1         Agent         565.508572            SUV           2.0  \n",
       "2        Branch         369.818708            SUV           1.0  \n",
       "3        Branch         556.800000            SUV           3.0  \n",
       "4           Web         345.600000   Two-Door Car           3.0  \n",
       "\n",
       "[5 rows x 22 columns]"
      ]
     },
     "execution_count": 154,
     "metadata": {},
     "output_type": "execute_result"
    }
   ],
   "source": [
    "train.head()"
   ]
  },
  {
   "cell_type": "code",
   "execution_count": 155,
   "id": "c55be157",
   "metadata": {
    "colab": {
     "base_uri": "https://localhost:8080/",
     "height": 456
    },
    "id": "c55be157",
    "outputId": "c7547e5b-1d54-4ddc-8af3-996197b4cf47"
   },
   "outputs": [
    {
     "data": {
      "text/html": [
       "\n",
       "  <div id=\"df-473212d8-814d-4e50-8afe-ba17161285aa\">\n",
       "    <div class=\"colab-df-container\">\n",
       "      <div>\n",
       "<style scoped>\n",
       "    .dataframe tbody tr th:only-of-type {\n",
       "        vertical-align: middle;\n",
       "    }\n",
       "\n",
       "    .dataframe tbody tr th {\n",
       "        vertical-align: top;\n",
       "    }\n",
       "\n",
       "    .dataframe thead th {\n",
       "        text-align: right;\n",
       "    }\n",
       "</style>\n",
       "<table border=\"1\" class=\"dataframe\">\n",
       "  <thead>\n",
       "    <tr style=\"text-align: right;\">\n",
       "      <th></th>\n",
       "      <th>CustomerID</th>\n",
       "      <th>Customer.Lifetime.Value</th>\n",
       "      <th>Coverage</th>\n",
       "      <th>Education</th>\n",
       "      <th>EmploymentStatus</th>\n",
       "      <th>Gender</th>\n",
       "      <th>Income</th>\n",
       "      <th>Location.Geo</th>\n",
       "      <th>Location.Code</th>\n",
       "      <th>Marital.Status</th>\n",
       "      <th>...</th>\n",
       "      <th>Months.Since.Policy.Inception</th>\n",
       "      <th>Number.of.Open.Complaints</th>\n",
       "      <th>Number.of.Policies</th>\n",
       "      <th>Policy.Type</th>\n",
       "      <th>Policy</th>\n",
       "      <th>Renew.Offer.Type</th>\n",
       "      <th>Sales.Channel</th>\n",
       "      <th>Total.Claim.Amount</th>\n",
       "      <th>Vehicle.Class</th>\n",
       "      <th>Vehicle.Size</th>\n",
       "    </tr>\n",
       "  </thead>\n",
       "  <tbody>\n",
       "    <tr>\n",
       "      <th>9801</th>\n",
       "      <td>3735</td>\n",
       "      <td>20496.694260</td>\n",
       "      <td>Basic</td>\n",
       "      <td>High School or Below</td>\n",
       "      <td>Unemployed</td>\n",
       "      <td>F</td>\n",
       "      <td>0.0</td>\n",
       "      <td>12.7,79.4</td>\n",
       "      <td>Suburban</td>\n",
       "      <td>Single</td>\n",
       "      <td>...</td>\n",
       "      <td>72</td>\n",
       "      <td>0.0</td>\n",
       "      <td>2.0</td>\n",
       "      <td>Personal Auto</td>\n",
       "      <td>Personal L2</td>\n",
       "      <td>Offer1</td>\n",
       "      <td>Branch</td>\n",
       "      <td>307.200000</td>\n",
       "      <td>Four-Door Car</td>\n",
       "      <td>2.0</td>\n",
       "    </tr>\n",
       "    <tr>\n",
       "      <th>9802</th>\n",
       "      <td>5988</td>\n",
       "      <td>2592.437797</td>\n",
       "      <td>Basic</td>\n",
       "      <td>High School or Below</td>\n",
       "      <td>Employed</td>\n",
       "      <td>M</td>\n",
       "      <td>72421.0</td>\n",
       "      <td>18.6,72.3</td>\n",
       "      <td>Suburban</td>\n",
       "      <td>Married</td>\n",
       "      <td>...</td>\n",
       "      <td>23</td>\n",
       "      <td>0.0</td>\n",
       "      <td>1.0</td>\n",
       "      <td>Corporate Auto</td>\n",
       "      <td>Corporate L3</td>\n",
       "      <td>Offer2</td>\n",
       "      <td>Call Center</td>\n",
       "      <td>312.000000</td>\n",
       "      <td>Four-Door Car</td>\n",
       "      <td>3.0</td>\n",
       "    </tr>\n",
       "    <tr>\n",
       "      <th>9803</th>\n",
       "      <td>8767</td>\n",
       "      <td>3103.923041</td>\n",
       "      <td>Extended</td>\n",
       "      <td>College</td>\n",
       "      <td>Employed</td>\n",
       "      <td>F</td>\n",
       "      <td>74665.0</td>\n",
       "      <td>19.2,74.7</td>\n",
       "      <td>Urban</td>\n",
       "      <td>Married</td>\n",
       "      <td>...</td>\n",
       "      <td>90</td>\n",
       "      <td>2.0</td>\n",
       "      <td>1.0</td>\n",
       "      <td>Corporate Auto</td>\n",
       "      <td>Corporate L2</td>\n",
       "      <td>Offer2</td>\n",
       "      <td>Call Center</td>\n",
       "      <td>236.902001</td>\n",
       "      <td>Four-Door Car</td>\n",
       "      <td>2.0</td>\n",
       "    </tr>\n",
       "    <tr>\n",
       "      <th>9804</th>\n",
       "      <td>9900</td>\n",
       "      <td>9161.655119</td>\n",
       "      <td>Basic</td>\n",
       "      <td>High School or Below</td>\n",
       "      <td>Employed</td>\n",
       "      <td>F</td>\n",
       "      <td>91763.0</td>\n",
       "      <td>19.5,73.9</td>\n",
       "      <td>Urban</td>\n",
       "      <td>Married</td>\n",
       "      <td>...</td>\n",
       "      <td>64</td>\n",
       "      <td>0.0</td>\n",
       "      <td>3.0</td>\n",
       "      <td>Special Auto</td>\n",
       "      <td>Special L3</td>\n",
       "      <td>Offer1</td>\n",
       "      <td>Call Center</td>\n",
       "      <td>441.992043</td>\n",
       "      <td>SUV</td>\n",
       "      <td>3.0</td>\n",
       "    </tr>\n",
       "    <tr>\n",
       "      <th>9805</th>\n",
       "      <td>11323</td>\n",
       "      <td>8583.272854</td>\n",
       "      <td>Premium</td>\n",
       "      <td>High School or Below</td>\n",
       "      <td>Disabled</td>\n",
       "      <td>F</td>\n",
       "      <td>18017.0</td>\n",
       "      <td>17.2,78.2</td>\n",
       "      <td>Suburban</td>\n",
       "      <td>Divorced</td>\n",
       "      <td>...</td>\n",
       "      <td>54</td>\n",
       "      <td>0.0</td>\n",
       "      <td>9.0</td>\n",
       "      <td>Personal Auto</td>\n",
       "      <td>Personal L3</td>\n",
       "      <td>Offer2</td>\n",
       "      <td>Call Center</td>\n",
       "      <td>547.200000</td>\n",
       "      <td>Four-Door Car</td>\n",
       "      <td>2.0</td>\n",
       "    </tr>\n",
       "  </tbody>\n",
       "</table>\n",
       "<p>5 rows × 22 columns</p>\n",
       "</div>\n",
       "      <button class=\"colab-df-convert\" onclick=\"convertToInteractive('df-473212d8-814d-4e50-8afe-ba17161285aa')\"\n",
       "              title=\"Convert this dataframe to an interactive table.\"\n",
       "              style=\"display:none;\">\n",
       "        \n",
       "  <svg xmlns=\"http://www.w3.org/2000/svg\" height=\"24px\"viewBox=\"0 0 24 24\"\n",
       "       width=\"24px\">\n",
       "    <path d=\"M0 0h24v24H0V0z\" fill=\"none\"/>\n",
       "    <path d=\"M18.56 5.44l.94 2.06.94-2.06 2.06-.94-2.06-.94-.94-2.06-.94 2.06-2.06.94zm-11 1L8.5 8.5l.94-2.06 2.06-.94-2.06-.94L8.5 2.5l-.94 2.06-2.06.94zm10 10l.94 2.06.94-2.06 2.06-.94-2.06-.94-.94-2.06-.94 2.06-2.06.94z\"/><path d=\"M17.41 7.96l-1.37-1.37c-.4-.4-.92-.59-1.43-.59-.52 0-1.04.2-1.43.59L10.3 9.45l-7.72 7.72c-.78.78-.78 2.05 0 2.83L4 21.41c.39.39.9.59 1.41.59.51 0 1.02-.2 1.41-.59l7.78-7.78 2.81-2.81c.8-.78.8-2.07 0-2.86zM5.41 20L4 18.59l7.72-7.72 1.47 1.35L5.41 20z\"/>\n",
       "  </svg>\n",
       "      </button>\n",
       "      \n",
       "  <style>\n",
       "    .colab-df-container {\n",
       "      display:flex;\n",
       "      flex-wrap:wrap;\n",
       "      gap: 12px;\n",
       "    }\n",
       "\n",
       "    .colab-df-convert {\n",
       "      background-color: #E8F0FE;\n",
       "      border: none;\n",
       "      border-radius: 50%;\n",
       "      cursor: pointer;\n",
       "      display: none;\n",
       "      fill: #1967D2;\n",
       "      height: 32px;\n",
       "      padding: 0 0 0 0;\n",
       "      width: 32px;\n",
       "    }\n",
       "\n",
       "    .colab-df-convert:hover {\n",
       "      background-color: #E2EBFA;\n",
       "      box-shadow: 0px 1px 2px rgba(60, 64, 67, 0.3), 0px 1px 3px 1px rgba(60, 64, 67, 0.15);\n",
       "      fill: #174EA6;\n",
       "    }\n",
       "\n",
       "    [theme=dark] .colab-df-convert {\n",
       "      background-color: #3B4455;\n",
       "      fill: #D2E3FC;\n",
       "    }\n",
       "\n",
       "    [theme=dark] .colab-df-convert:hover {\n",
       "      background-color: #434B5C;\n",
       "      box-shadow: 0px 1px 3px 1px rgba(0, 0, 0, 0.15);\n",
       "      filter: drop-shadow(0px 1px 2px rgba(0, 0, 0, 0.3));\n",
       "      fill: #FFFFFF;\n",
       "    }\n",
       "  </style>\n",
       "\n",
       "      <script>\n",
       "        const buttonEl =\n",
       "          document.querySelector('#df-473212d8-814d-4e50-8afe-ba17161285aa button.colab-df-convert');\n",
       "        buttonEl.style.display =\n",
       "          google.colab.kernel.accessAllowed ? 'block' : 'none';\n",
       "\n",
       "        async function convertToInteractive(key) {\n",
       "          const element = document.querySelector('#df-473212d8-814d-4e50-8afe-ba17161285aa');\n",
       "          const dataTable =\n",
       "            await google.colab.kernel.invokeFunction('convertToInteractive',\n",
       "                                                     [key], {});\n",
       "          if (!dataTable) return;\n",
       "\n",
       "          const docLinkHtml = 'Like what you see? Visit the ' +\n",
       "            '<a target=\"_blank\" href=https://colab.research.google.com/notebooks/data_table.ipynb>data table notebook</a>'\n",
       "            + ' to learn more about interactive tables.';\n",
       "          element.innerHTML = '';\n",
       "          dataTable['output_type'] = 'display_data';\n",
       "          await google.colab.output.renderOutput(dataTable, element);\n",
       "          const docLink = document.createElement('div');\n",
       "          docLink.innerHTML = docLinkHtml;\n",
       "          element.appendChild(docLink);\n",
       "        }\n",
       "      </script>\n",
       "    </div>\n",
       "  </div>\n",
       "  "
      ],
      "text/plain": [
       "      CustomerID  Customer.Lifetime.Value  Coverage             Education  \\\n",
       "9801        3735             20496.694260     Basic  High School or Below   \n",
       "9802        5988              2592.437797     Basic  High School or Below   \n",
       "9803        8767              3103.923041  Extended               College   \n",
       "9804        9900              9161.655119     Basic  High School or Below   \n",
       "9805       11323              8583.272854   Premium  High School or Below   \n",
       "\n",
       "     EmploymentStatus Gender   Income Location.Geo Location.Code  \\\n",
       "9801       Unemployed      F      0.0    12.7,79.4      Suburban   \n",
       "9802         Employed      M  72421.0    18.6,72.3      Suburban   \n",
       "9803         Employed      F  74665.0    19.2,74.7         Urban   \n",
       "9804         Employed      F  91763.0    19.5,73.9         Urban   \n",
       "9805         Disabled      F  18017.0    17.2,78.2      Suburban   \n",
       "\n",
       "     Marital.Status  ...  Months.Since.Policy.Inception  \\\n",
       "9801         Single  ...                             72   \n",
       "9802        Married  ...                             23   \n",
       "9803        Married  ...                             90   \n",
       "9804        Married  ...                             64   \n",
       "9805       Divorced  ...                             54   \n",
       "\n",
       "      Number.of.Open.Complaints  Number.of.Policies     Policy.Type  \\\n",
       "9801                        0.0                 2.0   Personal Auto   \n",
       "9802                        0.0                 1.0  Corporate Auto   \n",
       "9803                        2.0                 1.0  Corporate Auto   \n",
       "9804                        0.0                 3.0    Special Auto   \n",
       "9805                        0.0                 9.0   Personal Auto   \n",
       "\n",
       "            Policy Renew.Offer.Type Sales.Channel Total.Claim.Amount  \\\n",
       "9801   Personal L2           Offer1        Branch         307.200000   \n",
       "9802  Corporate L3           Offer2   Call Center         312.000000   \n",
       "9803  Corporate L2           Offer2   Call Center         236.902001   \n",
       "9804    Special L3           Offer1   Call Center         441.992043   \n",
       "9805   Personal L3           Offer2   Call Center         547.200000   \n",
       "\n",
       "      Vehicle.Class  Vehicle.Size  \n",
       "9801  Four-Door Car           2.0  \n",
       "9802  Four-Door Car           3.0  \n",
       "9803  Four-Door Car           2.0  \n",
       "9804            SUV           3.0  \n",
       "9805  Four-Door Car           2.0  \n",
       "\n",
       "[5 rows x 22 columns]"
      ]
     },
     "execution_count": 155,
     "metadata": {},
     "output_type": "execute_result"
    }
   ],
   "source": [
    "train.tail()"
   ]
  },
  {
   "cell_type": "code",
   "execution_count": 156,
   "id": "4b4f279b",
   "metadata": {
    "colab": {
     "base_uri": "https://localhost:8080/"
    },
    "id": "4b4f279b",
    "outputId": "93a8d122-020c-4de5-8368-e3f6aa00150f"
   },
   "outputs": [
    {
     "data": {
      "text/plain": [
       "(9806, 22)"
      ]
     },
     "execution_count": 156,
     "metadata": {},
     "output_type": "execute_result"
    }
   ],
   "source": [
    "train.shape"
   ]
  },
  {
   "cell_type": "code",
   "execution_count": 157,
   "id": "bfc62c90",
   "metadata": {
    "colab": {
     "base_uri": "https://localhost:8080/"
    },
    "id": "bfc62c90",
    "outputId": "66367563-75d3-41eb-e3a9-c3f527ac5d0c"
   },
   "outputs": [
    {
     "data": {
      "text/plain": [
       "Index(['CustomerID', 'Customer.Lifetime.Value', 'Coverage', 'Education',\n",
       "       'EmploymentStatus', 'Gender', 'Income', 'Location.Geo', 'Location.Code',\n",
       "       'Marital.Status', 'Monthly.Premium.Auto', 'Months.Since.Last.Claim',\n",
       "       'Months.Since.Policy.Inception', 'Number.of.Open.Complaints',\n",
       "       'Number.of.Policies', 'Policy.Type', 'Policy', 'Renew.Offer.Type',\n",
       "       'Sales.Channel', 'Total.Claim.Amount', 'Vehicle.Class', 'Vehicle.Size'],\n",
       "      dtype='object')"
      ]
     },
     "execution_count": 157,
     "metadata": {},
     "output_type": "execute_result"
    }
   ],
   "source": [
    "\n",
    "\n",
    "train.columns"
   ]
  },
  {
   "cell_type": "code",
   "execution_count": 158,
   "id": "40e111d1",
   "metadata": {
    "colab": {
     "base_uri": "https://localhost:8080/",
     "height": 364
    },
    "id": "40e111d1",
    "outputId": "d9436465-077b-4e03-ed88-948afcb5bb6c"
   },
   "outputs": [
    {
     "data": {
      "text/html": [
       "\n",
       "  <div id=\"df-2351f1dd-5cfe-46a7-a3c7-1ae336ca4558\">\n",
       "    <div class=\"colab-df-container\">\n",
       "      <div>\n",
       "<style scoped>\n",
       "    .dataframe tbody tr th:only-of-type {\n",
       "        vertical-align: middle;\n",
       "    }\n",
       "\n",
       "    .dataframe tbody tr th {\n",
       "        vertical-align: top;\n",
       "    }\n",
       "\n",
       "    .dataframe thead th {\n",
       "        text-align: right;\n",
       "    }\n",
       "</style>\n",
       "<table border=\"1\" class=\"dataframe\">\n",
       "  <thead>\n",
       "    <tr style=\"text-align: right;\">\n",
       "      <th></th>\n",
       "      <th>CustomerID</th>\n",
       "      <th>Customer.Lifetime.Value</th>\n",
       "      <th>Income</th>\n",
       "      <th>Monthly.Premium.Auto</th>\n",
       "      <th>Months.Since.Last.Claim</th>\n",
       "      <th>Months.Since.Policy.Inception</th>\n",
       "      <th>Number.of.Open.Complaints</th>\n",
       "      <th>Number.of.Policies</th>\n",
       "      <th>Total.Claim.Amount</th>\n",
       "      <th>Vehicle.Size</th>\n",
       "    </tr>\n",
       "  </thead>\n",
       "  <tbody>\n",
       "    <tr>\n",
       "      <th>count</th>\n",
       "      <td>9806.000000</td>\n",
       "      <td>9806.000000</td>\n",
       "      <td>9688.000000</td>\n",
       "      <td>9012.000000</td>\n",
       "      <td>9806.000000</td>\n",
       "      <td>9806.000000</td>\n",
       "      <td>8988.000000</td>\n",
       "      <td>9685.000000</td>\n",
       "      <td>9806.000000</td>\n",
       "      <td>9680.000000</td>\n",
       "    </tr>\n",
       "    <tr>\n",
       "      <th>mean</th>\n",
       "      <td>5778.381807</td>\n",
       "      <td>7998.047015</td>\n",
       "      <td>37511.054604</td>\n",
       "      <td>93.340657</td>\n",
       "      <td>15.143993</td>\n",
       "      <td>48.165001</td>\n",
       "      <td>0.379172</td>\n",
       "      <td>2.960351</td>\n",
       "      <td>438.266734</td>\n",
       "      <td>2.089773</td>\n",
       "    </tr>\n",
       "    <tr>\n",
       "      <th>std</th>\n",
       "      <td>3343.286093</td>\n",
       "      <td>6848.055899</td>\n",
       "      <td>30292.974468</td>\n",
       "      <td>34.417763</td>\n",
       "      <td>10.004327</td>\n",
       "      <td>27.963630</td>\n",
       "      <td>0.896427</td>\n",
       "      <td>2.389801</td>\n",
       "      <td>293.502301</td>\n",
       "      <td>0.538524</td>\n",
       "    </tr>\n",
       "    <tr>\n",
       "      <th>min</th>\n",
       "      <td>1.000000</td>\n",
       "      <td>1898.007675</td>\n",
       "      <td>0.000000</td>\n",
       "      <td>61.000000</td>\n",
       "      <td>0.000000</td>\n",
       "      <td>0.000000</td>\n",
       "      <td>0.000000</td>\n",
       "      <td>1.000000</td>\n",
       "      <td>0.099007</td>\n",
       "      <td>1.000000</td>\n",
       "    </tr>\n",
       "    <tr>\n",
       "      <th>25%</th>\n",
       "      <td>2879.250000</td>\n",
       "      <td>4013.949039</td>\n",
       "      <td>0.000000</td>\n",
       "      <td>68.750000</td>\n",
       "      <td>6.000000</td>\n",
       "      <td>24.000000</td>\n",
       "      <td>0.000000</td>\n",
       "      <td>1.000000</td>\n",
       "      <td>280.352767</td>\n",
       "      <td>2.000000</td>\n",
       "    </tr>\n",
       "    <tr>\n",
       "      <th>50%</th>\n",
       "      <td>5783.000000</td>\n",
       "      <td>5780.182197</td>\n",
       "      <td>33767.500000</td>\n",
       "      <td>83.000000</td>\n",
       "      <td>14.000000</td>\n",
       "      <td>48.000000</td>\n",
       "      <td>0.000000</td>\n",
       "      <td>2.000000</td>\n",
       "      <td>384.007015</td>\n",
       "      <td>2.000000</td>\n",
       "    </tr>\n",
       "    <tr>\n",
       "      <th>75%</th>\n",
       "      <td>8678.750000</td>\n",
       "      <td>8960.280213</td>\n",
       "      <td>62018.000000</td>\n",
       "      <td>109.000000</td>\n",
       "      <td>23.000000</td>\n",
       "      <td>71.750000</td>\n",
       "      <td>0.000000</td>\n",
       "      <td>4.000000</td>\n",
       "      <td>553.540973</td>\n",
       "      <td>2.000000</td>\n",
       "    </tr>\n",
       "    <tr>\n",
       "      <th>max</th>\n",
       "      <td>11573.000000</td>\n",
       "      <td>83325.381190</td>\n",
       "      <td>99981.000000</td>\n",
       "      <td>297.000000</td>\n",
       "      <td>35.000000</td>\n",
       "      <td>99.000000</td>\n",
       "      <td>5.000000</td>\n",
       "      <td>9.000000</td>\n",
       "      <td>2893.239678</td>\n",
       "      <td>3.000000</td>\n",
       "    </tr>\n",
       "  </tbody>\n",
       "</table>\n",
       "</div>\n",
       "      <button class=\"colab-df-convert\" onclick=\"convertToInteractive('df-2351f1dd-5cfe-46a7-a3c7-1ae336ca4558')\"\n",
       "              title=\"Convert this dataframe to an interactive table.\"\n",
       "              style=\"display:none;\">\n",
       "        \n",
       "  <svg xmlns=\"http://www.w3.org/2000/svg\" height=\"24px\"viewBox=\"0 0 24 24\"\n",
       "       width=\"24px\">\n",
       "    <path d=\"M0 0h24v24H0V0z\" fill=\"none\"/>\n",
       "    <path d=\"M18.56 5.44l.94 2.06.94-2.06 2.06-.94-2.06-.94-.94-2.06-.94 2.06-2.06.94zm-11 1L8.5 8.5l.94-2.06 2.06-.94-2.06-.94L8.5 2.5l-.94 2.06-2.06.94zm10 10l.94 2.06.94-2.06 2.06-.94-2.06-.94-.94-2.06-.94 2.06-2.06.94z\"/><path d=\"M17.41 7.96l-1.37-1.37c-.4-.4-.92-.59-1.43-.59-.52 0-1.04.2-1.43.59L10.3 9.45l-7.72 7.72c-.78.78-.78 2.05 0 2.83L4 21.41c.39.39.9.59 1.41.59.51 0 1.02-.2 1.41-.59l7.78-7.78 2.81-2.81c.8-.78.8-2.07 0-2.86zM5.41 20L4 18.59l7.72-7.72 1.47 1.35L5.41 20z\"/>\n",
       "  </svg>\n",
       "      </button>\n",
       "      \n",
       "  <style>\n",
       "    .colab-df-container {\n",
       "      display:flex;\n",
       "      flex-wrap:wrap;\n",
       "      gap: 12px;\n",
       "    }\n",
       "\n",
       "    .colab-df-convert {\n",
       "      background-color: #E8F0FE;\n",
       "      border: none;\n",
       "      border-radius: 50%;\n",
       "      cursor: pointer;\n",
       "      display: none;\n",
       "      fill: #1967D2;\n",
       "      height: 32px;\n",
       "      padding: 0 0 0 0;\n",
       "      width: 32px;\n",
       "    }\n",
       "\n",
       "    .colab-df-convert:hover {\n",
       "      background-color: #E2EBFA;\n",
       "      box-shadow: 0px 1px 2px rgba(60, 64, 67, 0.3), 0px 1px 3px 1px rgba(60, 64, 67, 0.15);\n",
       "      fill: #174EA6;\n",
       "    }\n",
       "\n",
       "    [theme=dark] .colab-df-convert {\n",
       "      background-color: #3B4455;\n",
       "      fill: #D2E3FC;\n",
       "    }\n",
       "\n",
       "    [theme=dark] .colab-df-convert:hover {\n",
       "      background-color: #434B5C;\n",
       "      box-shadow: 0px 1px 3px 1px rgba(0, 0, 0, 0.15);\n",
       "      filter: drop-shadow(0px 1px 2px rgba(0, 0, 0, 0.3));\n",
       "      fill: #FFFFFF;\n",
       "    }\n",
       "  </style>\n",
       "\n",
       "      <script>\n",
       "        const buttonEl =\n",
       "          document.querySelector('#df-2351f1dd-5cfe-46a7-a3c7-1ae336ca4558 button.colab-df-convert');\n",
       "        buttonEl.style.display =\n",
       "          google.colab.kernel.accessAllowed ? 'block' : 'none';\n",
       "\n",
       "        async function convertToInteractive(key) {\n",
       "          const element = document.querySelector('#df-2351f1dd-5cfe-46a7-a3c7-1ae336ca4558');\n",
       "          const dataTable =\n",
       "            await google.colab.kernel.invokeFunction('convertToInteractive',\n",
       "                                                     [key], {});\n",
       "          if (!dataTable) return;\n",
       "\n",
       "          const docLinkHtml = 'Like what you see? Visit the ' +\n",
       "            '<a target=\"_blank\" href=https://colab.research.google.com/notebooks/data_table.ipynb>data table notebook</a>'\n",
       "            + ' to learn more about interactive tables.';\n",
       "          element.innerHTML = '';\n",
       "          dataTable['output_type'] = 'display_data';\n",
       "          await google.colab.output.renderOutput(dataTable, element);\n",
       "          const docLink = document.createElement('div');\n",
       "          docLink.innerHTML = docLinkHtml;\n",
       "          element.appendChild(docLink);\n",
       "        }\n",
       "      </script>\n",
       "    </div>\n",
       "  </div>\n",
       "  "
      ],
      "text/plain": [
       "         CustomerID  Customer.Lifetime.Value        Income  \\\n",
       "count   9806.000000              9806.000000   9688.000000   \n",
       "mean    5778.381807              7998.047015  37511.054604   \n",
       "std     3343.286093              6848.055899  30292.974468   \n",
       "min        1.000000              1898.007675      0.000000   \n",
       "25%     2879.250000              4013.949039      0.000000   \n",
       "50%     5783.000000              5780.182197  33767.500000   \n",
       "75%     8678.750000              8960.280213  62018.000000   \n",
       "max    11573.000000             83325.381190  99981.000000   \n",
       "\n",
       "       Monthly.Premium.Auto  Months.Since.Last.Claim  \\\n",
       "count           9012.000000              9806.000000   \n",
       "mean              93.340657                15.143993   \n",
       "std               34.417763                10.004327   \n",
       "min               61.000000                 0.000000   \n",
       "25%               68.750000                 6.000000   \n",
       "50%               83.000000                14.000000   \n",
       "75%              109.000000                23.000000   \n",
       "max              297.000000                35.000000   \n",
       "\n",
       "       Months.Since.Policy.Inception  Number.of.Open.Complaints  \\\n",
       "count                    9806.000000                8988.000000   \n",
       "mean                       48.165001                   0.379172   \n",
       "std                        27.963630                   0.896427   \n",
       "min                         0.000000                   0.000000   \n",
       "25%                        24.000000                   0.000000   \n",
       "50%                        48.000000                   0.000000   \n",
       "75%                        71.750000                   0.000000   \n",
       "max                        99.000000                   5.000000   \n",
       "\n",
       "       Number.of.Policies  Total.Claim.Amount  Vehicle.Size  \n",
       "count         9685.000000         9806.000000   9680.000000  \n",
       "mean             2.960351          438.266734      2.089773  \n",
       "std              2.389801          293.502301      0.538524  \n",
       "min              1.000000            0.099007      1.000000  \n",
       "25%              1.000000          280.352767      2.000000  \n",
       "50%              2.000000          384.007015      2.000000  \n",
       "75%              4.000000          553.540973      2.000000  \n",
       "max              9.000000         2893.239678      3.000000  "
      ]
     },
     "execution_count": 158,
     "metadata": {},
     "output_type": "execute_result"
    }
   ],
   "source": [
    "train.describe()"
   ]
  },
  {
   "cell_type": "code",
   "execution_count": 159,
   "id": "f679f612",
   "metadata": {
    "colab": {
     "base_uri": "https://localhost:8080/"
    },
    "id": "f679f612",
    "outputId": "2523e410-4aa8-42b2-e914-8e3c64e246cd"
   },
   "outputs": [
    {
     "name": "stdout",
     "output_type": "stream",
     "text": [
      "<class 'pandas.core.frame.DataFrame'>\n",
      "RangeIndex: 9806 entries, 0 to 9805\n",
      "Data columns (total 22 columns):\n",
      " #   Column                         Non-Null Count  Dtype  \n",
      "---  ------                         --------------  -----  \n",
      " 0   CustomerID                     9806 non-null   int64  \n",
      " 1   Customer.Lifetime.Value        9806 non-null   float64\n",
      " 2   Coverage                       8881 non-null   object \n",
      " 3   Education                      9677 non-null   object \n",
      " 4   EmploymentStatus               9688 non-null   object \n",
      " 5   Gender                         9677 non-null   object \n",
      " 6   Income                         9688 non-null   float64\n",
      " 7   Location.Geo                   9806 non-null   object \n",
      " 8   Location.Code                  9687 non-null   object \n",
      " 9   Marital.Status                 9677 non-null   object \n",
      " 10  Monthly.Premium.Auto           9012 non-null   float64\n",
      " 11  Months.Since.Last.Claim        9806 non-null   int64  \n",
      " 12  Months.Since.Policy.Inception  9806 non-null   int64  \n",
      " 13  Number.of.Open.Complaints      8988 non-null   float64\n",
      " 14  Number.of.Policies             9685 non-null   float64\n",
      " 15  Policy.Type                    8915 non-null   object \n",
      " 16  Policy                         9685 non-null   object \n",
      " 17  Renew.Offer.Type               9678 non-null   object \n",
      " 18  Sales.Channel                  9678 non-null   object \n",
      " 19  Total.Claim.Amount             9806 non-null   float64\n",
      " 20  Vehicle.Class                  9680 non-null   object \n",
      " 21  Vehicle.Size                   9680 non-null   float64\n",
      "dtypes: float64(7), int64(3), object(12)\n",
      "memory usage: 1.6+ MB\n"
     ]
    }
   ],
   "source": [
    "train.info()"
   ]
  },
  {
   "cell_type": "markdown",
   "id": "8b835af5",
   "metadata": {},
   "source": [
    "## Explotery Data Analysis"
   ]
  },
  {
   "cell_type": "code",
   "execution_count": 160,
   "id": "1734cc19",
   "metadata": {
    "colab": {
     "base_uri": "https://localhost:8080/"
    },
    "id": "1734cc19",
    "outputId": "4d2a0de3-4ef7-4d86-a00b-78e21aacbdf6"
   },
   "outputs": [
    {
     "name": "stdout",
     "output_type": "stream",
     "text": [
      "CustomerID\n",
      "5917     0.010198\n",
      "2315     0.010198\n",
      "8440     0.010198\n",
      "7806     0.010198\n",
      "11064    0.010198\n",
      "           ...   \n",
      "3034     0.010198\n",
      "2637     0.010198\n",
      "9334     0.010198\n",
      "8102     0.010198\n",
      "11323    0.010198\n",
      "Name: CustomerID, Length: 9806, dtype: float64\n",
      "unique values of CustomerID-------->9806\n",
      "<------------------------------->\n",
      "Customer.Lifetime.Value\n",
      "6689.022728     0.132572\n",
      "10656.881950    0.112176\n",
      "10208.927610    0.101978\n",
      "6521.368813     0.101978\n",
      "7285.030983     0.101978\n",
      "                  ...   \n",
      "15083.784980    0.010198\n",
      "9082.833891     0.010198\n",
      "6245.443568     0.010198\n",
      "8556.418397     0.010198\n",
      "8583.272854     0.010198\n",
      "Name: Customer.Lifetime.Value, Length: 6477, dtype: float64\n",
      "unique values of Customer.Lifetime.Value-------->6477\n",
      "<------------------------------->\n",
      "Coverage\n",
      "Basic       60.364824\n",
      "Extended    30.368202\n",
      "Premium      9.266974\n",
      "Name: Coverage, dtype: float64\n",
      "unique values of Coverage-------->4\n",
      "<------------------------------->\n",
      "Education\n",
      "Bachelor                30.319314\n",
      "College                 29.306603\n",
      "High School or Below    28.893252\n",
      "Master                   7.843340\n",
      "Doctor                   3.637491\n",
      "Name: Education, dtype: float64\n",
      "unique values of Education-------->6\n",
      "<------------------------------->\n",
      "EmploymentStatus\n",
      "Employed         62.138728\n",
      "Unemployed       25.402560\n",
      "Medical Leave     5.068126\n",
      "Disabled          4.428159\n",
      "Retired           2.962428\n",
      "Name: EmploymentStatus, dtype: float64\n",
      "unique values of EmploymentStatus-------->6\n",
      "<------------------------------->\n",
      "Gender\n",
      "F    51.513899\n",
      "M    48.486101\n",
      "Name: Gender, dtype: float64\n",
      "unique values of Gender-------->3\n",
      "<------------------------------->\n",
      "Income\n",
      "0.0        25.402560\n",
      "20396.0     0.113543\n",
      "11828.0     0.113543\n",
      "28142.0     0.113543\n",
      "22520.0     0.103220\n",
      "             ...    \n",
      "43704.0     0.010322\n",
      "23222.0     0.010322\n",
      "77882.0     0.010322\n",
      "95579.0     0.010322\n",
      "18017.0     0.010322\n",
      "Name: Income, Length: 4621, dtype: float64\n",
      "unique values of Income-------->4622\n",
      "<------------------------------->\n",
      "Location.Geo\n",
      "NA,NA        1.213543\n",
      "19.2,72.4    0.265144\n",
      "18.9,72.6    0.265144\n",
      "18.9,72.7    0.224352\n",
      "17.2,78.5    0.214155\n",
      "               ...   \n",
      "13.4,78.8    0.010198\n",
      "20,73.3      0.010198\n",
      "29.8,78.7    0.010198\n",
      "21.9,88.7    0.010198\n",
      "28.3,77.6    0.010198\n",
      "Name: Location.Geo, Length: 2840, dtype: float64\n",
      "unique values of Location.Geo-------->2840\n",
      "<------------------------------->\n",
      "Location.Code\n",
      "Suburban    64.044596\n",
      "Rural       18.684835\n",
      "Urban       17.270569\n",
      "Name: Location.Code, dtype: float64\n",
      "unique values of Location.Code-------->4\n",
      "<------------------------------->\n",
      "Marital.Status\n",
      "Married     58.313527\n",
      "Single      26.878165\n",
      "Divorced    14.808308\n",
      "Name: Marital.Status, dtype: float64\n",
      "unique values of Marital.Status-------->4\n",
      "<------------------------------->\n",
      "Monthly.Premium.Auto\n",
      "65.0     3.861518\n",
      "71.0     3.417665\n",
      "73.0     3.306702\n",
      "66.0     3.195739\n",
      "67.0     3.173546\n",
      "           ...   \n",
      "142.0    0.011096\n",
      "206.0    0.011096\n",
      "238.0    0.011096\n",
      "232.0    0.011096\n",
      "286.0    0.011096\n",
      "Name: Monthly.Premium.Auto, Length: 191, dtype: float64\n",
      "unique values of Monthly.Premium.Auto-------->192\n",
      "<------------------------------->\n",
      "Months.Since.Last.Claim\n",
      "3     4.130124\n",
      "2     3.956761\n",
      "7     3.864981\n",
      "6     3.773200\n",
      "1     3.630430\n",
      "10    3.579441\n",
      "4     3.559045\n",
      "5     3.416276\n",
      "15    3.232715\n",
      "16    3.222517\n",
      "11    3.212319\n",
      "12    3.120538\n",
      "14    3.028758\n",
      "0     3.018560\n",
      "17    2.998164\n",
      "8     2.947175\n",
      "13    2.865592\n",
      "21    2.682031\n",
      "20    2.671834\n",
      "9     2.671834\n",
      "23    2.620844\n",
      "19    2.600449\n",
      "18    2.580053\n",
      "22    2.508668\n",
      "25    2.406690\n",
      "24    2.304711\n",
      "29    2.263920\n",
      "31    2.253722\n",
      "26    2.202733\n",
      "28    2.121150\n",
      "27    2.080359\n",
      "33    1.937589\n",
      "34    1.845809\n",
      "30    1.805017\n",
      "35    1.488884\n",
      "32    1.397104\n",
      "Name: Months.Since.Last.Claim, dtype: float64\n",
      "unique values of Months.Since.Last.Claim-------->36\n",
      "<------------------------------->\n",
      "Months.Since.Policy.Inception\n",
      "59    1.590863\n",
      "61    1.458291\n",
      "50    1.407302\n",
      "43    1.356312\n",
      "56    1.295125\n",
      "        ...   \n",
      "96    0.734244\n",
      "94    0.724047\n",
      "82    0.591475\n",
      "97    0.581277\n",
      "98    0.530288\n",
      "Name: Months.Since.Policy.Inception, Length: 100, dtype: float64\n",
      "unique values of Months.Since.Policy.Inception-------->100\n",
      "<------------------------------->\n",
      "Number.of.Open.Complaints\n",
      "0.0    79.327993\n",
      "1.0    11.337339\n",
      "2.0     4.116600\n",
      "3.0     3.081887\n",
      "4.0     1.579884\n",
      "5.0     0.556297\n",
      "Name: Number.of.Open.Complaints, dtype: float64\n",
      "unique values of Number.of.Open.Complaints-------->7\n",
      "<------------------------------->\n",
      "Number.of.Policies\n",
      "1.0    35.715023\n",
      "2.0    25.121322\n",
      "3.0    12.803304\n",
      "7.0     4.749613\n",
      "9.0     4.605059\n",
      "5.0     4.481156\n",
      "4.0     4.429530\n",
      "8.0     4.140423\n",
      "6.0     3.954569\n",
      "Name: Number.of.Policies, dtype: float64\n",
      "unique values of Number.of.Policies-------->10\n",
      "<------------------------------->\n",
      "Policy.Type\n",
      "Personal Auto     74.256870\n",
      "Corporate Auto    21.536736\n",
      "Special Auto       4.206394\n",
      "Name: Policy.Type, dtype: float64\n",
      "unique values of Policy.Type-------->4\n",
      "<------------------------------->\n",
      "Policy\n",
      "Personal L3     37.552917\n",
      "Personal L2     23.448632\n",
      "Personal L1     13.154362\n",
      "Corporate L3    11.017037\n",
      "Corporate L2     6.381002\n",
      "Corporate L1     4.233351\n",
      "Special L2       1.951471\n",
      "Special L3       1.600413\n",
      "Special L1       0.660816\n",
      "Name: Policy, dtype: float64\n",
      "unique values of Policy-------->10\n",
      "<------------------------------->\n",
      "Renew.Offer.Type\n",
      "Offer1    41.072536\n",
      "Offer2    31.866088\n",
      "Offer3    15.912379\n",
      "Offer4    11.148998\n",
      "Name: Renew.Offer.Type, dtype: float64\n",
      "unique values of Renew.Offer.Type-------->5\n",
      "<------------------------------->\n",
      "Sales.Channel\n",
      "Agent          37.921058\n",
      "Branch         28.487291\n",
      "Call Center    19.239512\n",
      "Web            14.352139\n",
      "Name: Sales.Channel, dtype: float64\n",
      "unique values of Sales.Channel-------->5\n",
      "<------------------------------->\n",
      "Total.Claim.Amount\n",
      "312.000000    1.458291\n",
      "350.400000    1.203345\n",
      "316.800000    1.142158\n",
      "292.800000    1.121762\n",
      "331.200000    1.080971\n",
      "                ...   \n",
      "773.470977    0.010198\n",
      "125.961938    0.010198\n",
      "472.599683    0.010198\n",
      "346.319404    0.010198\n",
      "441.992043    0.010198\n",
      "Name: Total.Claim.Amount, Length: 4125, dtype: float64\n",
      "unique values of Total.Claim.Amount-------->4125\n",
      "<------------------------------->\n",
      "Vehicle.Class\n",
      "Four-Door Car    50.299587\n",
      "Two-Door Car     20.919421\n",
      "SUV              19.617769\n",
      "Sports Car        5.340909\n",
      "Luxury SUV        1.921488\n",
      "Luxury Car        1.900826\n",
      "Name: Vehicle.Class, dtype: float64\n",
      "unique values of Vehicle.Class-------->7\n",
      "<------------------------------->\n",
      "Vehicle.Size\n",
      "2.0    70.196281\n",
      "3.0    19.390496\n",
      "1.0    10.413223\n",
      "Name: Vehicle.Size, dtype: float64\n",
      "unique values of Vehicle.Size-------->4\n",
      "<------------------------------->\n"
     ]
    }
   ],
   "source": [
    "\n",
    "for i in train.columns:\n",
    "    print(i)\n",
    "    print(train[i].value_counts(normalize=True)*100)\n",
    "    print(f\"unique values of {i}-------->{len(train[i].unique())}\")\n",
    "    print(\"<------------------------------->\")"
   ]
  },
  {
   "cell_type": "code",
   "execution_count": 161,
   "id": "4TSe793IXLcz",
   "metadata": {
    "id": "4TSe793IXLcz"
   },
   "outputs": [],
   "source": [
    "num_col=['Income',\n",
    "       'Monthly.Premium.Auto', 'Months.Since.Last.Claim',\n",
    "       'Months.Since.Policy.Inception', 'Number.of.Open.Complaints',\n",
    "       'Number.of.Policies', 'Total.Claim.Amount']\n",
    "cat_col=['Coverage', 'Education', 'EmploymentStatus', 'Gender', 'Location.Geo',\n",
    "       'Location.Code', 'Marital.Status', 'Policy.Type', 'Policy',\n",
    "       'Renew.Offer.Type', 'Sales.Channel', 'Vehicle.Class','Vehicle.Size']"
   ]
  },
  {
   "cell_type": "code",
   "execution_count": 162,
   "id": "5dcd347a",
   "metadata": {
    "colab": {
     "base_uri": "https://localhost:8080/"
    },
    "id": "5dcd347a",
    "outputId": "5790d7d3-df3c-4209-e82c-d7e1061903c1"
   },
   "outputs": [
    {
     "name": "stdout",
     "output_type": "stream",
     "text": [
      "Income\n",
      "Skewness: 0.287768\n",
      "<--------------------------->\n",
      "Monthly.Premium.Auto\n",
      "Skewness: 2.106710\n",
      "<--------------------------->\n",
      "Months.Since.Last.Claim\n",
      "Skewness: 0.273594\n",
      "<--------------------------->\n",
      "Months.Since.Policy.Inception\n",
      "Skewness: 0.031490\n",
      "<--------------------------->\n",
      "Number.of.Open.Complaints\n",
      "Skewness: 2.795138\n",
      "<--------------------------->\n",
      "Number.of.Policies\n",
      "Skewness: 1.260867\n",
      "<--------------------------->\n",
      "Total.Claim.Amount\n",
      "Skewness: 1.731247\n",
      "<--------------------------->\n"
     ]
    }
   ],
   "source": [
    "for i in train[num_col]:\n",
    "    print(i)\n",
    "    print(\"Skewness: %f\" % train[i].skew())\n",
    "    print(\"<--------------------------->\")"
   ]
  },
  {
   "cell_type": "code",
   "execution_count": 163,
   "id": "9e2cda9f",
   "metadata": {
    "colab": {
     "base_uri": "https://localhost:8080/",
     "height": 809
    },
    "id": "9e2cda9f",
    "outputId": "53f04491-6094-437c-a47b-6a11fc8aea32"
   },
   "outputs": [
    {
     "data": {
      "image/png": "[encoded data removed]",
      "text/plain": [
       "<Figure size 2160x2160 with 16 Axes>"
      ]
     },
     "metadata": {},
     "output_type": "display_data"
    }
   ],
   "source": [
    "train.plot.kde(subplots = True, figsize = (30, 30),\n",
    "                       layout = (4,4), color = \"green\");"
   ]
  },
  {
   "cell_type": "code",
   "execution_count": 164,
   "id": "465c8f7d",
   "metadata": {
    "colab": {
     "base_uri": "https://localhost:8080/",
     "height": 649
    },
    "id": "465c8f7d",
    "outputId": "c63aecf5-d002-4a78-c19e-c12e2044323c"
   },
   "outputs": [
    {
     "data": {
      "image/png": "[encoded data removed]",
      "text/plain": [
       "<Figure size 720x720 with 2 Axes>"
      ]
     },
     "metadata": {},
     "output_type": "display_data"
    }
   ],
   "source": [
    "f, ax = plt.subplots(figsize=(10,10))\n",
    "mat = train.corr('pearson')\n",
    "mask = np.triu(np.ones_like(mat, dtype=bool))\n",
    "cmap = sns.diverging_palette(230, 20, as_cmap=True)\n",
    "sns.heatmap(mat, mask=mask, cmap=cmap, vmax=1, center=0, annot = True,\n",
    "            square=True, linewidths=.5, cbar_kws={\"shrink\": .5})\n",
    "plt.show()"
   ]
  },
  {
   "cell_type": "code",
   "execution_count": 165,
   "id": "88bd6498",
   "metadata": {
    "id": "88bd6498"
   },
   "outputs": [],
   "source": [
    "def unnecessary(train):\n",
    "   return train.drop(\"CustomerID\",axis=1,inplace=True)"
   ]
  },
  {
   "cell_type": "code",
   "execution_count": 166,
   "id": "be0e4b95",
   "metadata": {
    "id": "be0e4b95"
   },
   "outputs": [],
   "source": [
    "unnecessary(train)"
   ]
  },
  {
   "cell_type": "code",
   "execution_count": 167,
   "id": "100d9e7c",
   "metadata": {
    "colab": {
     "base_uri": "https://localhost:8080/"
    },
    "id": "100d9e7c",
    "outputId": "a80f3fb9-4666-4c39-dd42-bdab84ee5a41"
   },
   "outputs": [
    {
     "data": {
      "text/plain": [
       "Index(['Customer.Lifetime.Value', 'Coverage', 'Education', 'EmploymentStatus',\n",
       "       'Gender', 'Income', 'Location.Geo', 'Location.Code', 'Marital.Status',\n",
       "       'Monthly.Premium.Auto', 'Months.Since.Last.Claim',\n",
       "       'Months.Since.Policy.Inception', 'Number.of.Open.Complaints',\n",
       "       'Number.of.Policies', 'Policy.Type', 'Policy', 'Renew.Offer.Type',\n",
       "       'Sales.Channel', 'Total.Claim.Amount', 'Vehicle.Class', 'Vehicle.Size'],\n",
       "      dtype='object')"
      ]
     },
     "execution_count": 167,
     "metadata": {},
     "output_type": "execute_result"
    }
   ],
   "source": [
    "train.columns"
   ]
  },
  {
   "cell_type": "code",
   "execution_count": 168,
   "id": "0d3ba17d",
   "metadata": {
    "id": "0d3ba17d"
   },
   "outputs": [],
   "source": [
    "x=train.drop(\"Customer.Lifetime.Value\",axis=1)\n",
    "y=train[\"Customer.Lifetime.Value\"]"
   ]
  },
  {
   "cell_type": "code",
   "execution_count": 169,
   "id": "f4724b3b",
   "metadata": {
    "id": "f4724b3b"
   },
   "outputs": [],
   "source": [
    "from sklearn.feature_selection import f_regression, SelectKBest"
   ]
  },
  {
   "cell_type": "code",
   "execution_count": 170,
   "id": "76629aa9",
   "metadata": {
    "id": "76629aa9"
   },
   "outputs": [],
   "source": [
    "x_train,x_test,y_train,y_test=train_test_split(x,y,test_size=0.2,random_state=42)"
   ]
  },
  {
   "cell_type": "markdown",
   "id": "b7089117",
   "metadata": {
    "id": "b7089117"
   },
   "source": [
    "# preprocessing"
   ]
  },
  {
   "cell_type": "code",
   "execution_count": 171,
   "id": "dae44233",
   "metadata": {
    "colab": {
     "base_uri": "https://localhost:8080/"
    },
    "id": "dae44233",
    "outputId": "94788ada-26de-4808-b63c-5e2e55e29824"
   },
   "outputs": [
    {
     "data": {
      "text/plain": [
       "SimpleImputer(strategy='most_frequent')"
      ]
     },
     "execution_count": 171,
     "metadata": {},
     "output_type": "execute_result"
    }
   ],
   "source": [
    "cat_imputer=SimpleImputer(strategy=\"most_frequent\")\n",
    "cat_imputer.fit(x_train[cat_col])"
   ]
  },
  {
   "cell_type": "code",
   "execution_count": 172,
   "id": "18d27440",
   "metadata": {
    "id": "18d27440"
   },
   "outputs": [],
   "source": [
    "cat_train=pd.DataFrame(cat_imputer.transform(x_train[cat_col]),columns=cat_col)\n",
    "cat_test=pd.DataFrame(cat_imputer.transform(x_test[cat_col]),columns=cat_col)"
   ]
  },
  {
   "cell_type": "code",
   "execution_count": 173,
   "id": "9772026d",
   "metadata": {
    "colab": {
     "base_uri": "https://localhost:8080/"
    },
    "id": "9772026d",
    "outputId": "51e282f6-8474-4358-a371-65343f94ba8e"
   },
   "outputs": [
    {
     "data": {
      "text/plain": [
       "SimpleImputer(strategy='median')"
      ]
     },
     "execution_count": 173,
     "metadata": {},
     "output_type": "execute_result"
    }
   ],
   "source": [
    "num_imputer=SimpleImputer(strategy=\"median\")\n",
    "num_imputer.fit(x_train[num_col])"
   ]
  },
  {
   "cell_type": "code",
   "execution_count": 174,
   "id": "42b291e8",
   "metadata": {
    "id": "42b291e8"
   },
   "outputs": [],
   "source": [
    "num_train=pd.DataFrame(num_imputer.transform(x_train[num_col]),columns=num_col)\n",
    "num_test=pd.DataFrame(num_imputer.transform(x_test[num_col]),columns=num_col)"
   ]
  },
  {
   "cell_type": "code",
   "execution_count": 175,
   "id": "3a22bb89",
   "metadata": {
    "id": "3a22bb89"
   },
   "outputs": [],
   "source": [
    "from sklearn.preprocessing import LabelEncoder\n",
    "le = LabelEncoder()\n",
    "def label(cat_train):\n",
    "    for i in cat_train.columns:\n",
    "       cat_train[i]=le.fit_transform(cat_train[i])"
   ]
  },
  {
   "cell_type": "code",
   "execution_count": 176,
   "id": "4967a534",
   "metadata": {
    "id": "4967a534"
   },
   "outputs": [],
   "source": [
    "label(cat_train)"
   ]
  },
  {
   "cell_type": "code",
   "execution_count": 177,
   "id": "edb4b825",
   "metadata": {
    "id": "edb4b825"
   },
   "outputs": [],
   "source": [
    "label(cat_test)"
   ]
  },
  {
   "cell_type": "code",
   "execution_count": 178,
   "id": "c50aeaa7",
   "metadata": {
    "id": "c50aeaa7"
   },
   "outputs": [],
   "source": [
    "x_tr=pd.concat([num_train,cat_train],axis=1)"
   ]
  },
  {
   "cell_type": "code",
   "execution_count": 179,
   "id": "1d70f9c8",
   "metadata": {
    "id": "1d70f9c8"
   },
   "outputs": [],
   "source": [
    "x_te=pd.concat([num_test,cat_test],axis=1)"
   ]
  },
  {
   "cell_type": "markdown",
   "id": "5c32915a",
   "metadata": {
    "id": "5c32915a"
   },
   "source": [
    "# Model Building"
   ]
  },
  {
   "cell_type": "code",
   "execution_count": 180,
   "id": "c7366515",
   "metadata": {
    "id": "c7366515"
   },
   "outputs": [],
   "source": [
    "from sklearn.linear_model import LinearRegression\n"
   ]
  },
  {
   "cell_type": "code",
   "execution_count": 181,
   "id": "de313553",
   "metadata": {
    "id": "de313553"
   },
   "outputs": [],
   "source": [
    "def score(y_train,ypred,y_test,y_pred):\n",
    "    print(f\" training score:{np.sqrt(mean_squared_error(y_train,ypred))}\")\n",
    "    print(f\" test score:{np.sqrt(mean_squared_error(y_test,y_pred))}\")\n",
    "    "
   ]
  },
  {
   "cell_type": "code",
   "execution_count": 182,
   "id": "2dc0fee1",
   "metadata": {
    "id": "2dc0fee1"
   },
   "outputs": [],
   "source": [
    "def r2(y_train,ypred,y_test,y_pred):\n",
    "    print(f\" training score:{r2_score(y_train,ypred)}\")\n",
    "    print(f\" test score:{r2_score(y_test,y_pred)}\")"
   ]
  },
  {
   "cell_type": "code",
   "execution_count": 183,
   "id": "13aff817",
   "metadata": {
    "id": "13aff817"
   },
   "outputs": [],
   "source": [
    "lr=LinearRegression()\n",
    "lr.fit(x_tr,y_train)\n",
    "ypred=lr.predict(x_tr)\n",
    "y_pred=lr.predict(x_te)"
   ]
  },
  {
   "cell_type": "code",
   "execution_count": 184,
   "id": "a24dc058",
   "metadata": {
    "colab": {
     "base_uri": "https://localhost:8080/"
    },
    "id": "a24dc058",
    "outputId": "d9a88ace-470b-4476-e127-88927942fd1c"
   },
   "outputs": [
    {
     "name": "stdout",
     "output_type": "stream",
     "text": [
      " training score:6352.298428352549\n",
      " test score:6004.48769894347\n"
     ]
    }
   ],
   "source": [
    "score(y_train,ypred,y_test,y_pred)"
   ]
  },
  {
   "cell_type": "code",
   "execution_count": 185,
   "id": "71b6162c",
   "metadata": {
    "colab": {
     "base_uri": "https://localhost:8080/"
    },
    "id": "71b6162c",
    "outputId": "b4f54bcc-6306-4551-a082-a4168a4e8704"
   },
   "outputs": [
    {
     "name": "stdout",
     "output_type": "stream",
     "text": [
      " training score:0.15847406263515762\n",
      " test score:0.15369659565633242\n"
     ]
    }
   ],
   "source": [
    "r2(y_train,ypred,y_test,y_pred)"
   ]
  },
  {
   "cell_type": "code",
   "execution_count": 186,
   "id": "13014b35",
   "metadata": {
    "id": "13014b35"
   },
   "outputs": [],
   "source": [
    "from sklearn.neighbors import KNeighborsRegressor"
   ]
  },
  {
   "cell_type": "code",
   "execution_count": 187,
   "id": "717a4536",
   "metadata": {
    "id": "717a4536"
   },
   "outputs": [],
   "source": [
    "kn=KNeighborsRegressor()\n",
    "kn.fit(x_tr,y_train)\n",
    "ypred=kn.predict(x_tr)\n",
    "y_pred=kn.predict(x_te)"
   ]
  },
  {
   "cell_type": "code",
   "execution_count": 188,
   "id": "df27fe95",
   "metadata": {
    "colab": {
     "base_uri": "https://localhost:8080/"
    },
    "id": "df27fe95",
    "outputId": "73d4deab-7a7e-4265-c85d-60f8a2160e78"
   },
   "outputs": [
    {
     "name": "stdout",
     "output_type": "stream",
     "text": [
      " training score:5830.752045632409\n",
      " test score:6884.960083448646\n"
     ]
    }
   ],
   "source": [
    "score(y_train,ypred,y_test,y_pred)"
   ]
  },
  {
   "cell_type": "code",
   "execution_count": 189,
   "id": "58896054",
   "metadata": {
    "colab": {
     "base_uri": "https://localhost:8080/"
    },
    "id": "58896054",
    "outputId": "3fe0e505-1b4a-41a0-d717-a9f71a451057"
   },
   "outputs": [
    {
     "name": "stdout",
     "output_type": "stream",
     "text": [
      " training score:0.2909859078782282\n",
      " test score:-0.11269726974542138\n"
     ]
    }
   ],
   "source": [
    "r2(y_train,ypred,y_test,y_pred)"
   ]
  },
  {
   "cell_type": "code",
   "execution_count": 190,
   "id": "6557c5f8",
   "metadata": {
    "id": "6557c5f8"
   },
   "outputs": [],
   "source": [
    "from sklearn.tree import DecisionTreeRegressor"
   ]
  },
  {
   "cell_type": "code",
   "execution_count": 191,
   "id": "2e042f80",
   "metadata": {
    "id": "2e042f80"
   },
   "outputs": [],
   "source": [
    "dt=DecisionTreeRegressor(max_depth=3)\n",
    "dt.fit(x_tr,y_train)\n",
    "ypred=dt.predict(x_tr)\n",
    "y_pred=dt.predict(x_te)"
   ]
  },
  {
   "cell_type": "code",
   "execution_count": 192,
   "id": "d41d0251",
   "metadata": {
    "colab": {
     "base_uri": "https://localhost:8080/"
    },
    "id": "d41d0251",
    "outputId": "2b5a6165-d8b4-4bf6-ad7b-6a0fe9e969c2"
   },
   "outputs": [
    {
     "name": "stdout",
     "output_type": "stream",
     "text": [
      " training score:4509.322305051207\n",
      " test score:4137.462184261125\n"
     ]
    }
   ],
   "source": [
    "score(y_train,ypred,y_test,y_pred)"
   ]
  },
  {
   "cell_type": "code",
   "execution_count": 193,
   "id": "7a4266be",
   "metadata": {
    "colab": {
     "base_uri": "https://localhost:8080/"
    },
    "id": "7a4266be",
    "outputId": "672c6f10-619a-4882-eea3-f0c4d220d273"
   },
   "outputs": [
    {
     "name": "stdout",
     "output_type": "stream",
     "text": [
      " training score:0.5759390558110726\n",
      " test score:0.5981701050622026\n"
     ]
    }
   ],
   "source": [
    "r2(y_train,ypred,y_test,y_pred)"
   ]
  },
  {
   "cell_type": "markdown",
   "id": "e9dc99f2",
   "metadata": {},
   "source": [
    "## Work on Test Data"
   ]
  },
  {
   "cell_type": "code",
   "execution_count": 194,
   "id": "531449de",
   "metadata": {
    "colab": {
     "base_uri": "https://localhost:8080/",
     "height": 661
    },
    "id": "531449de",
    "outputId": "98dd8318-c6e0-4ebe-902d-4fc01c3c6c78"
   },
   "outputs": [
    {
     "data": {
      "text/html": [
       "\n",
       "  <div id=\"df-16bdf588-1594-49b1-817c-db74810c8da9\">\n",
       "    <div class=\"colab-df-container\">\n",
       "      <div>\n",
       "<style scoped>\n",
       "    .dataframe tbody tr th:only-of-type {\n",
       "        vertical-align: middle;\n",
       "    }\n",
       "\n",
       "    .dataframe tbody tr th {\n",
       "        vertical-align: top;\n",
       "    }\n",
       "\n",
       "    .dataframe thead th {\n",
       "        text-align: right;\n",
       "    }\n",
       "</style>\n",
       "<table border=\"1\" class=\"dataframe\">\n",
       "  <thead>\n",
       "    <tr style=\"text-align: right;\">\n",
       "      <th></th>\n",
       "      <th>CustomerID</th>\n",
       "      <th>Coverage</th>\n",
       "      <th>Education</th>\n",
       "      <th>EmploymentStatus</th>\n",
       "      <th>Gender</th>\n",
       "      <th>Income</th>\n",
       "      <th>Location.Geo</th>\n",
       "      <th>Location.Code</th>\n",
       "      <th>Marital.Status</th>\n",
       "      <th>Monthly.Premium.Auto</th>\n",
       "      <th>...</th>\n",
       "      <th>Months.Since.Policy.Inception</th>\n",
       "      <th>Number.of.Open.Complaints</th>\n",
       "      <th>Number.of.Policies</th>\n",
       "      <th>Policy.Type</th>\n",
       "      <th>Policy</th>\n",
       "      <th>Renew.Offer.Type</th>\n",
       "      <th>Sales.Channel</th>\n",
       "      <th>Total.Claim.Amount</th>\n",
       "      <th>Vehicle.Class</th>\n",
       "      <th>Vehicle.Size</th>\n",
       "    </tr>\n",
       "  </thead>\n",
       "  <tbody>\n",
       "    <tr>\n",
       "      <th>0</th>\n",
       "      <td>17</td>\n",
       "      <td>Basic</td>\n",
       "      <td>Bachelor</td>\n",
       "      <td>Employed</td>\n",
       "      <td>M</td>\n",
       "      <td>43836.0</td>\n",
       "      <td>12.6,79.4</td>\n",
       "      <td>Rural</td>\n",
       "      <td>Single</td>\n",
       "      <td>73.0</td>\n",
       "      <td>...</td>\n",
       "      <td>44</td>\n",
       "      <td>0</td>\n",
       "      <td>1</td>\n",
       "      <td>Personal Auto</td>\n",
       "      <td>Personal L1</td>\n",
       "      <td>Offer1</td>\n",
       "      <td>Agent</td>\n",
       "      <td>138.130879</td>\n",
       "      <td>Four-Door Car</td>\n",
       "      <td>Medsize</td>\n",
       "    </tr>\n",
       "    <tr>\n",
       "      <th>1</th>\n",
       "      <td>19</td>\n",
       "      <td>Extended</td>\n",
       "      <td>College</td>\n",
       "      <td>Employed</td>\n",
       "      <td>F</td>\n",
       "      <td>28812.0</td>\n",
       "      <td>17.3,78.4</td>\n",
       "      <td>Urban</td>\n",
       "      <td>Married</td>\n",
       "      <td>93.0</td>\n",
       "      <td>...</td>\n",
       "      <td>7</td>\n",
       "      <td>0</td>\n",
       "      <td>8</td>\n",
       "      <td>Special Auto</td>\n",
       "      <td>Special L2</td>\n",
       "      <td>Offer2</td>\n",
       "      <td>Branch</td>\n",
       "      <td>425.527834</td>\n",
       "      <td>Four-Door Car</td>\n",
       "      <td>Medsize</td>\n",
       "    </tr>\n",
       "    <tr>\n",
       "      <th>2</th>\n",
       "      <td>29</td>\n",
       "      <td>Premium</td>\n",
       "      <td>Master</td>\n",
       "      <td>Employed</td>\n",
       "      <td>M</td>\n",
       "      <td>77026.0</td>\n",
       "      <td>18.4,73.5</td>\n",
       "      <td>Urban</td>\n",
       "      <td>Married</td>\n",
       "      <td>110.0</td>\n",
       "      <td>...</td>\n",
       "      <td>82</td>\n",
       "      <td>2</td>\n",
       "      <td>3</td>\n",
       "      <td>Corporate Auto</td>\n",
       "      <td>Corporate L1</td>\n",
       "      <td>Offer2</td>\n",
       "      <td>Agent</td>\n",
       "      <td>472.029737</td>\n",
       "      <td>Four-Door Car</td>\n",
       "      <td>Medsize</td>\n",
       "    </tr>\n",
       "    <tr>\n",
       "      <th>3</th>\n",
       "      <td>34</td>\n",
       "      <td>Basic</td>\n",
       "      <td>Bachelor</td>\n",
       "      <td>Employed</td>\n",
       "      <td>F</td>\n",
       "      <td>24599.0</td>\n",
       "      <td>17.1,78.2</td>\n",
       "      <td>Rural</td>\n",
       "      <td>Married</td>\n",
       "      <td>64.0</td>\n",
       "      <td>...</td>\n",
       "      <td>50</td>\n",
       "      <td>1</td>\n",
       "      <td>2</td>\n",
       "      <td>Corporate Auto</td>\n",
       "      <td>Corporate L2</td>\n",
       "      <td>Offer2</td>\n",
       "      <td>Branch</td>\n",
       "      <td>42.920271</td>\n",
       "      <td>Four-Door Car</td>\n",
       "      <td>Medsize</td>\n",
       "    </tr>\n",
       "    <tr>\n",
       "      <th>4</th>\n",
       "      <td>37</td>\n",
       "      <td>Extended</td>\n",
       "      <td>Bachelor</td>\n",
       "      <td>Disabled</td>\n",
       "      <td>F</td>\n",
       "      <td>13789.0</td>\n",
       "      <td>13,80.1</td>\n",
       "      <td>Suburban</td>\n",
       "      <td>Divorced</td>\n",
       "      <td>79.0</td>\n",
       "      <td>...</td>\n",
       "      <td>49</td>\n",
       "      <td>0</td>\n",
       "      <td>1</td>\n",
       "      <td>Personal Auto</td>\n",
       "      <td>Personal L3</td>\n",
       "      <td>Offer4</td>\n",
       "      <td>Call Center</td>\n",
       "      <td>379.200000</td>\n",
       "      <td>Four-Door Car</td>\n",
       "      <td>Medsize</td>\n",
       "    </tr>\n",
       "    <tr>\n",
       "      <th>...</th>\n",
       "      <td>...</td>\n",
       "      <td>...</td>\n",
       "      <td>...</td>\n",
       "      <td>...</td>\n",
       "      <td>...</td>\n",
       "      <td>...</td>\n",
       "      <td>...</td>\n",
       "      <td>...</td>\n",
       "      <td>...</td>\n",
       "      <td>...</td>\n",
       "      <td>...</td>\n",
       "      <td>...</td>\n",
       "      <td>...</td>\n",
       "      <td>...</td>\n",
       "      <td>...</td>\n",
       "      <td>...</td>\n",
       "      <td>...</td>\n",
       "      <td>...</td>\n",
       "      <td>...</td>\n",
       "      <td>...</td>\n",
       "      <td>...</td>\n",
       "    </tr>\n",
       "    <tr>\n",
       "      <th>1762</th>\n",
       "      <td>11553</td>\n",
       "      <td>Basic</td>\n",
       "      <td>Bachelor</td>\n",
       "      <td>Employed</td>\n",
       "      <td>F</td>\n",
       "      <td>61896.0</td>\n",
       "      <td>19.4,72.8</td>\n",
       "      <td>Urban</td>\n",
       "      <td>Married</td>\n",
       "      <td>104.0</td>\n",
       "      <td>...</td>\n",
       "      <td>97</td>\n",
       "      <td>0</td>\n",
       "      <td>1</td>\n",
       "      <td>Personal Auto</td>\n",
       "      <td>Personal L2</td>\n",
       "      <td>Offer4</td>\n",
       "      <td>Call Center</td>\n",
       "      <td>461.306722</td>\n",
       "      <td>SUV</td>\n",
       "      <td>Medsize</td>\n",
       "    </tr>\n",
       "    <tr>\n",
       "      <th>1763</th>\n",
       "      <td>11557</td>\n",
       "      <td>Basic</td>\n",
       "      <td>Doctor</td>\n",
       "      <td>Employed</td>\n",
       "      <td>F</td>\n",
       "      <td>39317.0</td>\n",
       "      <td>19.4,71.9</td>\n",
       "      <td>Rural</td>\n",
       "      <td>Single</td>\n",
       "      <td>64.0</td>\n",
       "      <td>...</td>\n",
       "      <td>46</td>\n",
       "      <td>0</td>\n",
       "      <td>1</td>\n",
       "      <td>Personal Auto</td>\n",
       "      <td>Personal L2</td>\n",
       "      <td>Offer2</td>\n",
       "      <td>Branch</td>\n",
       "      <td>77.695607</td>\n",
       "      <td>Four-Door Car</td>\n",
       "      <td>Medsize</td>\n",
       "    </tr>\n",
       "    <tr>\n",
       "      <th>1764</th>\n",
       "      <td>11559</td>\n",
       "      <td>Basic</td>\n",
       "      <td>Bachelor</td>\n",
       "      <td>Employed</td>\n",
       "      <td>F</td>\n",
       "      <td>30205.0</td>\n",
       "      <td>19.2,74.3</td>\n",
       "      <td>Suburban</td>\n",
       "      <td>Single</td>\n",
       "      <td>195.0</td>\n",
       "      <td>...</td>\n",
       "      <td>1</td>\n",
       "      <td>0</td>\n",
       "      <td>4</td>\n",
       "      <td>Personal Auto</td>\n",
       "      <td>Personal L3</td>\n",
       "      <td>Offer1</td>\n",
       "      <td>Agent</td>\n",
       "      <td>1329.957905</td>\n",
       "      <td>Luxury SUV</td>\n",
       "      <td>Large</td>\n",
       "    </tr>\n",
       "    <tr>\n",
       "      <th>1765</th>\n",
       "      <td>11570</td>\n",
       "      <td>Extended</td>\n",
       "      <td>College</td>\n",
       "      <td>Employed</td>\n",
       "      <td>M</td>\n",
       "      <td>36918.0</td>\n",
       "      <td>18.9,72.7</td>\n",
       "      <td>Suburban</td>\n",
       "      <td>Divorced</td>\n",
       "      <td>76.0</td>\n",
       "      <td>...</td>\n",
       "      <td>77</td>\n",
       "      <td>3</td>\n",
       "      <td>3</td>\n",
       "      <td>Personal Auto</td>\n",
       "      <td>Personal L1</td>\n",
       "      <td>Offer1</td>\n",
       "      <td>Branch</td>\n",
       "      <td>364.800000</td>\n",
       "      <td>Two-Door Car</td>\n",
       "      <td>Medsize</td>\n",
       "    </tr>\n",
       "    <tr>\n",
       "      <th>1766</th>\n",
       "      <td>11572</td>\n",
       "      <td>Extended</td>\n",
       "      <td>Bachelor</td>\n",
       "      <td>Employed</td>\n",
       "      <td>F</td>\n",
       "      <td>59367.0</td>\n",
       "      <td>18.8,73.2</td>\n",
       "      <td>Rural</td>\n",
       "      <td>Married</td>\n",
       "      <td>84.0</td>\n",
       "      <td>...</td>\n",
       "      <td>48</td>\n",
       "      <td>0</td>\n",
       "      <td>1</td>\n",
       "      <td>Personal Auto</td>\n",
       "      <td>Personal L3</td>\n",
       "      <td>Offer2</td>\n",
       "      <td>Agent</td>\n",
       "      <td>6.880385</td>\n",
       "      <td>Four-Door Car</td>\n",
       "      <td>Medsize</td>\n",
       "    </tr>\n",
       "  </tbody>\n",
       "</table>\n",
       "<p>1767 rows × 21 columns</p>\n",
       "</div>\n",
       "      <button class=\"colab-df-convert\" onclick=\"convertToInteractive('df-16bdf588-1594-49b1-817c-db74810c8da9')\"\n",
       "              title=\"Convert this dataframe to an interactive table.\"\n",
       "              style=\"display:none;\">\n",
       "        \n",
       "  <svg xmlns=\"http://www.w3.org/2000/svg\" height=\"24px\"viewBox=\"0 0 24 24\"\n",
       "       width=\"24px\">\n",
       "    <path d=\"M0 0h24v24H0V0z\" fill=\"none\"/>\n",
       "    <path d=\"M18.56 5.44l.94 2.06.94-2.06 2.06-.94-2.06-.94-.94-2.06-.94 2.06-2.06.94zm-11 1L8.5 8.5l.94-2.06 2.06-.94-2.06-.94L8.5 2.5l-.94 2.06-2.06.94zm10 10l.94 2.06.94-2.06 2.06-.94-2.06-.94-.94-2.06-.94 2.06-2.06.94z\"/><path d=\"M17.41 7.96l-1.37-1.37c-.4-.4-.92-.59-1.43-.59-.52 0-1.04.2-1.43.59L10.3 9.45l-7.72 7.72c-.78.78-.78 2.05 0 2.83L4 21.41c.39.39.9.59 1.41.59.51 0 1.02-.2 1.41-.59l7.78-7.78 2.81-2.81c.8-.78.8-2.07 0-2.86zM5.41 20L4 18.59l7.72-7.72 1.47 1.35L5.41 20z\"/>\n",
       "  </svg>\n",
       "      </button>\n",
       "      \n",
       "  <style>\n",
       "    .colab-df-container {\n",
       "      display:flex;\n",
       "      flex-wrap:wrap;\n",
       "      gap: 12px;\n",
       "    }\n",
       "\n",
       "    .colab-df-convert {\n",
       "      background-color: #E8F0FE;\n",
       "      border: none;\n",
       "      border-radius: 50%;\n",
       "      cursor: pointer;\n",
       "      display: none;\n",
       "      fill: #1967D2;\n",
       "      height: 32px;\n",
       "      padding: 0 0 0 0;\n",
       "      width: 32px;\n",
       "    }\n",
       "\n",
       "    .colab-df-convert:hover {\n",
       "      background-color: #E2EBFA;\n",
       "      box-shadow: 0px 1px 2px rgba(60, 64, 67, 0.3), 0px 1px 3px 1px rgba(60, 64, 67, 0.15);\n",
       "      fill: #174EA6;\n",
       "    }\n",
       "\n",
       "    [theme=dark] .colab-df-convert {\n",
       "      background-color: #3B4455;\n",
       "      fill: #D2E3FC;\n",
       "    }\n",
       "\n",
       "    [theme=dark] .colab-df-convert:hover {\n",
       "      background-color: #434B5C;\n",
       "      box-shadow: 0px 1px 3px 1px rgba(0, 0, 0, 0.15);\n",
       "      filter: drop-shadow(0px 1px 2px rgba(0, 0, 0, 0.3));\n",
       "      fill: #FFFFFF;\n",
       "    }\n",
       "  </style>\n",
       "\n",
       "      <script>\n",
       "        const buttonEl =\n",
       "          document.querySelector('#df-16bdf588-1594-49b1-817c-db74810c8da9 button.colab-df-convert');\n",
       "        buttonEl.style.display =\n",
       "          google.colab.kernel.accessAllowed ? 'block' : 'none';\n",
       "\n",
       "        async function convertToInteractive(key) {\n",
       "          const element = document.querySelector('#df-16bdf588-1594-49b1-817c-db74810c8da9');\n",
       "          const dataTable =\n",
       "            await google.colab.kernel.invokeFunction('convertToInteractive',\n",
       "                                                     [key], {});\n",
       "          if (!dataTable) return;\n",
       "\n",
       "          const docLinkHtml = 'Like what you see? Visit the ' +\n",
       "            '<a target=\"_blank\" href=https://colab.research.google.com/notebooks/data_table.ipynb>data table notebook</a>'\n",
       "            + ' to learn more about interactive tables.';\n",
       "          element.innerHTML = '';\n",
       "          dataTable['output_type'] = 'display_data';\n",
       "          await google.colab.output.renderOutput(dataTable, element);\n",
       "          const docLink = document.createElement('div');\n",
       "          docLink.innerHTML = docLinkHtml;\n",
       "          element.appendChild(docLink);\n",
       "        }\n",
       "      </script>\n",
       "    </div>\n",
       "  </div>\n",
       "  "
      ],
      "text/plain": [
       "      CustomerID  Coverage Education EmploymentStatus Gender   Income  \\\n",
       "0             17     Basic  Bachelor         Employed      M  43836.0   \n",
       "1             19  Extended   College         Employed      F  28812.0   \n",
       "2             29   Premium    Master         Employed      M  77026.0   \n",
       "3             34     Basic  Bachelor         Employed      F  24599.0   \n",
       "4             37  Extended  Bachelor         Disabled      F  13789.0   \n",
       "...          ...       ...       ...              ...    ...      ...   \n",
       "1762       11553     Basic  Bachelor         Employed      F  61896.0   \n",
       "1763       11557     Basic    Doctor         Employed      F  39317.0   \n",
       "1764       11559     Basic  Bachelor         Employed      F  30205.0   \n",
       "1765       11570  Extended   College         Employed      M  36918.0   \n",
       "1766       11572  Extended  Bachelor         Employed      F  59367.0   \n",
       "\n",
       "     Location.Geo Location.Code Marital.Status  Monthly.Premium.Auto  ...  \\\n",
       "0       12.6,79.4         Rural         Single                  73.0  ...   \n",
       "1       17.3,78.4         Urban        Married                  93.0  ...   \n",
       "2       18.4,73.5         Urban        Married                 110.0  ...   \n",
       "3       17.1,78.2         Rural        Married                  64.0  ...   \n",
       "4         13,80.1      Suburban       Divorced                  79.0  ...   \n",
       "...           ...           ...            ...                   ...  ...   \n",
       "1762    19.4,72.8         Urban        Married                 104.0  ...   \n",
       "1763    19.4,71.9         Rural         Single                  64.0  ...   \n",
       "1764    19.2,74.3      Suburban         Single                 195.0  ...   \n",
       "1765    18.9,72.7      Suburban       Divorced                  76.0  ...   \n",
       "1766    18.8,73.2         Rural        Married                  84.0  ...   \n",
       "\n",
       "      Months.Since.Policy.Inception  Number.of.Open.Complaints  \\\n",
       "0                                44                          0   \n",
       "1                                 7                          0   \n",
       "2                                82                          2   \n",
       "3                                50                          1   \n",
       "4                                49                          0   \n",
       "...                             ...                        ...   \n",
       "1762                             97                          0   \n",
       "1763                             46                          0   \n",
       "1764                              1                          0   \n",
       "1765                             77                          3   \n",
       "1766                             48                          0   \n",
       "\n",
       "      Number.of.Policies     Policy.Type        Policy Renew.Offer.Type  \\\n",
       "0                      1   Personal Auto   Personal L1           Offer1   \n",
       "1                      8    Special Auto    Special L2           Offer2   \n",
       "2                      3  Corporate Auto  Corporate L1           Offer2   \n",
       "3                      2  Corporate Auto  Corporate L2           Offer2   \n",
       "4                      1   Personal Auto   Personal L3           Offer4   \n",
       "...                  ...             ...           ...              ...   \n",
       "1762                   1   Personal Auto   Personal L2           Offer4   \n",
       "1763                   1   Personal Auto   Personal L2           Offer2   \n",
       "1764                   4   Personal Auto   Personal L3           Offer1   \n",
       "1765                   3   Personal Auto   Personal L1           Offer1   \n",
       "1766                   1   Personal Auto   Personal L3           Offer2   \n",
       "\n",
       "     Sales.Channel Total.Claim.Amount  Vehicle.Class Vehicle.Size  \n",
       "0            Agent         138.130879  Four-Door Car      Medsize  \n",
       "1           Branch         425.527834  Four-Door Car      Medsize  \n",
       "2            Agent         472.029737  Four-Door Car      Medsize  \n",
       "3           Branch          42.920271  Four-Door Car      Medsize  \n",
       "4      Call Center         379.200000  Four-Door Car      Medsize  \n",
       "...            ...                ...            ...          ...  \n",
       "1762   Call Center         461.306722            SUV      Medsize  \n",
       "1763        Branch          77.695607  Four-Door Car      Medsize  \n",
       "1764         Agent        1329.957905     Luxury SUV        Large  \n",
       "1765        Branch         364.800000   Two-Door Car      Medsize  \n",
       "1766         Agent           6.880385  Four-Door Car      Medsize  \n",
       "\n",
       "[1767 rows x 21 columns]"
      ]
     },
     "execution_count": 194,
     "metadata": {},
     "output_type": "execute_result"
    }
   ],
   "source": [
    "test"
   ]
  },
  {
   "cell_type": "code",
   "execution_count": 195,
   "id": "dd654143",
   "metadata": {
    "id": "dd654143"
   },
   "outputs": [],
   "source": [
    "unnecessary(test)"
   ]
  },
  {
   "cell_type": "code",
   "execution_count": 196,
   "id": "d4e3776c",
   "metadata": {
    "colab": {
     "base_uri": "https://localhost:8080/"
    },
    "id": "d4e3776c",
    "outputId": "91928fea-3278-44da-9b78-95ed0d8fa470"
   },
   "outputs": [
    {
     "data": {
      "text/plain": [
       "SimpleImputer(strategy='most_frequent')"
      ]
     },
     "execution_count": 196,
     "metadata": {},
     "output_type": "execute_result"
    }
   ],
   "source": [
    "cat_imputer=SimpleImputer(strategy=\"most_frequent\")\n",
    "cat_imputer.fit(test[cat_col])"
   ]
  },
  {
   "cell_type": "code",
   "execution_count": 197,
   "id": "f3738ca4",
   "metadata": {
    "id": "f3738ca4"
   },
   "outputs": [],
   "source": [
    "cat_train=pd.DataFrame(cat_imputer.transform(test[cat_col]),columns=cat_col)"
   ]
  },
  {
   "cell_type": "code",
   "execution_count": 198,
   "id": "564142a2",
   "metadata": {
    "colab": {
     "base_uri": "https://localhost:8080/"
    },
    "id": "564142a2",
    "outputId": "2670de98-efeb-40ce-bbd6-682b65893004"
   },
   "outputs": [
    {
     "data": {
      "text/plain": [
       "SimpleImputer(strategy='median')"
      ]
     },
     "execution_count": 198,
     "metadata": {},
     "output_type": "execute_result"
    }
   ],
   "source": [
    "num_imputer=SimpleImputer(strategy=\"median\")\n",
    "num_imputer.fit(test[num_col])"
   ]
  },
  {
   "cell_type": "code",
   "execution_count": 199,
   "id": "d7e6e7aa",
   "metadata": {
    "id": "d7e6e7aa"
   },
   "outputs": [],
   "source": [
    "num_train=pd.DataFrame(num_imputer.transform(test[num_col]),columns=num_col)"
   ]
  },
  {
   "cell_type": "code",
   "execution_count": 200,
   "id": "85173c97",
   "metadata": {
    "id": "85173c97"
   },
   "outputs": [],
   "source": [
    "label(cat_train)"
   ]
  },
  {
   "cell_type": "code",
   "execution_count": 201,
   "id": "a5e41e14",
   "metadata": {
    "id": "a5e41e14"
   },
   "outputs": [],
   "source": [
    "te=pd.concat([num_train,cat_train],axis=1)"
   ]
  },
  {
   "cell_type": "code",
   "execution_count": 202,
   "id": "cb90989f",
   "metadata": {
    "colab": {
     "base_uri": "https://localhost:8080/",
     "height": 488
    },
    "id": "cb90989f",
    "outputId": "1b1cd669-b107-42d2-c689-9159da4dec59"
   },
   "outputs": [
    {
     "data": {
      "text/html": [
       "\n",
       "  <div id=\"df-1db79ff5-2741-4458-8458-f8b558d59e87\">\n",
       "    <div class=\"colab-df-container\">\n",
       "      <div>\n",
       "<style scoped>\n",
       "    .dataframe tbody tr th:only-of-type {\n",
       "        vertical-align: middle;\n",
       "    }\n",
       "\n",
       "    .dataframe tbody tr th {\n",
       "        vertical-align: top;\n",
       "    }\n",
       "\n",
       "    .dataframe thead th {\n",
       "        text-align: right;\n",
       "    }\n",
       "</style>\n",
       "<table border=\"1\" class=\"dataframe\">\n",
       "  <thead>\n",
       "    <tr style=\"text-align: right;\">\n",
       "      <th></th>\n",
       "      <th>Income</th>\n",
       "      <th>Monthly.Premium.Auto</th>\n",
       "      <th>Months.Since.Last.Claim</th>\n",
       "      <th>Months.Since.Policy.Inception</th>\n",
       "      <th>Number.of.Open.Complaints</th>\n",
       "      <th>Number.of.Policies</th>\n",
       "      <th>Total.Claim.Amount</th>\n",
       "      <th>Coverage</th>\n",
       "      <th>Education</th>\n",
       "      <th>EmploymentStatus</th>\n",
       "      <th>Gender</th>\n",
       "      <th>Location.Geo</th>\n",
       "      <th>Location.Code</th>\n",
       "      <th>Marital.Status</th>\n",
       "      <th>Policy.Type</th>\n",
       "      <th>Policy</th>\n",
       "      <th>Renew.Offer.Type</th>\n",
       "      <th>Sales.Channel</th>\n",
       "      <th>Vehicle.Class</th>\n",
       "      <th>Vehicle.Size</th>\n",
       "    </tr>\n",
       "  </thead>\n",
       "  <tbody>\n",
       "    <tr>\n",
       "      <th>0</th>\n",
       "      <td>43836.0</td>\n",
       "      <td>73.0</td>\n",
       "      <td>12.0</td>\n",
       "      <td>44.0</td>\n",
       "      <td>0.0</td>\n",
       "      <td>1.0</td>\n",
       "      <td>138.130879</td>\n",
       "      <td>0</td>\n",
       "      <td>0</td>\n",
       "      <td>1</td>\n",
       "      <td>1</td>\n",
       "      <td>18</td>\n",
       "      <td>0</td>\n",
       "      <td>2</td>\n",
       "      <td>1</td>\n",
       "      <td>3</td>\n",
       "      <td>0</td>\n",
       "      <td>0</td>\n",
       "      <td>0</td>\n",
       "      <td>1</td>\n",
       "    </tr>\n",
       "    <tr>\n",
       "      <th>1</th>\n",
       "      <td>28812.0</td>\n",
       "      <td>93.0</td>\n",
       "      <td>17.0</td>\n",
       "      <td>7.0</td>\n",
       "      <td>0.0</td>\n",
       "      <td>8.0</td>\n",
       "      <td>425.527834</td>\n",
       "      <td>1</td>\n",
       "      <td>1</td>\n",
       "      <td>1</td>\n",
       "      <td>0</td>\n",
       "      <td>291</td>\n",
       "      <td>2</td>\n",
       "      <td>1</td>\n",
       "      <td>2</td>\n",
       "      <td>7</td>\n",
       "      <td>1</td>\n",
       "      <td>1</td>\n",
       "      <td>0</td>\n",
       "      <td>1</td>\n",
       "    </tr>\n",
       "    <tr>\n",
       "      <th>2</th>\n",
       "      <td>77026.0</td>\n",
       "      <td>110.0</td>\n",
       "      <td>9.0</td>\n",
       "      <td>82.0</td>\n",
       "      <td>2.0</td>\n",
       "      <td>3.0</td>\n",
       "      <td>472.029737</td>\n",
       "      <td>2</td>\n",
       "      <td>4</td>\n",
       "      <td>1</td>\n",
       "      <td>1</td>\n",
       "      <td>475</td>\n",
       "      <td>2</td>\n",
       "      <td>1</td>\n",
       "      <td>0</td>\n",
       "      <td>0</td>\n",
       "      <td>1</td>\n",
       "      <td>0</td>\n",
       "      <td>0</td>\n",
       "      <td>1</td>\n",
       "    </tr>\n",
       "    <tr>\n",
       "      <th>3</th>\n",
       "      <td>24599.0</td>\n",
       "      <td>64.0</td>\n",
       "      <td>12.0</td>\n",
       "      <td>50.0</td>\n",
       "      <td>1.0</td>\n",
       "      <td>2.0</td>\n",
       "      <td>42.920271</td>\n",
       "      <td>0</td>\n",
       "      <td>0</td>\n",
       "      <td>1</td>\n",
       "      <td>0</td>\n",
       "      <td>234</td>\n",
       "      <td>0</td>\n",
       "      <td>1</td>\n",
       "      <td>0</td>\n",
       "      <td>1</td>\n",
       "      <td>1</td>\n",
       "      <td>1</td>\n",
       "      <td>0</td>\n",
       "      <td>1</td>\n",
       "    </tr>\n",
       "    <tr>\n",
       "      <th>4</th>\n",
       "      <td>13789.0</td>\n",
       "      <td>79.0</td>\n",
       "      <td>8.0</td>\n",
       "      <td>49.0</td>\n",
       "      <td>0.0</td>\n",
       "      <td>1.0</td>\n",
       "      <td>379.200000</td>\n",
       "      <td>1</td>\n",
       "      <td>0</td>\n",
       "      <td>0</td>\n",
       "      <td>0</td>\n",
       "      <td>60</td>\n",
       "      <td>1</td>\n",
       "      <td>0</td>\n",
       "      <td>1</td>\n",
       "      <td>5</td>\n",
       "      <td>3</td>\n",
       "      <td>2</td>\n",
       "      <td>0</td>\n",
       "      <td>1</td>\n",
       "    </tr>\n",
       "    <tr>\n",
       "      <th>...</th>\n",
       "      <td>...</td>\n",
       "      <td>...</td>\n",
       "      <td>...</td>\n",
       "      <td>...</td>\n",
       "      <td>...</td>\n",
       "      <td>...</td>\n",
       "      <td>...</td>\n",
       "      <td>...</td>\n",
       "      <td>...</td>\n",
       "      <td>...</td>\n",
       "      <td>...</td>\n",
       "      <td>...</td>\n",
       "      <td>...</td>\n",
       "      <td>...</td>\n",
       "      <td>...</td>\n",
       "      <td>...</td>\n",
       "      <td>...</td>\n",
       "      <td>...</td>\n",
       "      <td>...</td>\n",
       "      <td>...</td>\n",
       "    </tr>\n",
       "    <tr>\n",
       "      <th>1762</th>\n",
       "      <td>61896.0</td>\n",
       "      <td>104.0</td>\n",
       "      <td>25.0</td>\n",
       "      <td>97.0</td>\n",
       "      <td>0.0</td>\n",
       "      <td>1.0</td>\n",
       "      <td>461.306722</td>\n",
       "      <td>0</td>\n",
       "      <td>0</td>\n",
       "      <td>1</td>\n",
       "      <td>0</td>\n",
       "      <td>746</td>\n",
       "      <td>2</td>\n",
       "      <td>1</td>\n",
       "      <td>1</td>\n",
       "      <td>4</td>\n",
       "      <td>3</td>\n",
       "      <td>2</td>\n",
       "      <td>3</td>\n",
       "      <td>1</td>\n",
       "    </tr>\n",
       "    <tr>\n",
       "      <th>1763</th>\n",
       "      <td>39317.0</td>\n",
       "      <td>64.0</td>\n",
       "      <td>22.0</td>\n",
       "      <td>46.0</td>\n",
       "      <td>0.0</td>\n",
       "      <td>1.0</td>\n",
       "      <td>77.695607</td>\n",
       "      <td>0</td>\n",
       "      <td>2</td>\n",
       "      <td>1</td>\n",
       "      <td>0</td>\n",
       "      <td>739</td>\n",
       "      <td>0</td>\n",
       "      <td>2</td>\n",
       "      <td>1</td>\n",
       "      <td>4</td>\n",
       "      <td>1</td>\n",
       "      <td>1</td>\n",
       "      <td>0</td>\n",
       "      <td>1</td>\n",
       "    </tr>\n",
       "    <tr>\n",
       "      <th>1764</th>\n",
       "      <td>30205.0</td>\n",
       "      <td>195.0</td>\n",
       "      <td>24.0</td>\n",
       "      <td>1.0</td>\n",
       "      <td>0.0</td>\n",
       "      <td>4.0</td>\n",
       "      <td>1329.957905</td>\n",
       "      <td>0</td>\n",
       "      <td>0</td>\n",
       "      <td>1</td>\n",
       "      <td>0</td>\n",
       "      <td>702</td>\n",
       "      <td>1</td>\n",
       "      <td>2</td>\n",
       "      <td>1</td>\n",
       "      <td>5</td>\n",
       "      <td>0</td>\n",
       "      <td>0</td>\n",
       "      <td>2</td>\n",
       "      <td>0</td>\n",
       "    </tr>\n",
       "    <tr>\n",
       "      <th>1765</th>\n",
       "      <td>36918.0</td>\n",
       "      <td>76.0</td>\n",
       "      <td>28.0</td>\n",
       "      <td>77.0</td>\n",
       "      <td>3.0</td>\n",
       "      <td>3.0</td>\n",
       "      <td>364.800000</td>\n",
       "      <td>1</td>\n",
       "      <td>1</td>\n",
       "      <td>1</td>\n",
       "      <td>1</td>\n",
       "      <td>596</td>\n",
       "      <td>1</td>\n",
       "      <td>0</td>\n",
       "      <td>1</td>\n",
       "      <td>3</td>\n",
       "      <td>0</td>\n",
       "      <td>1</td>\n",
       "      <td>5</td>\n",
       "      <td>1</td>\n",
       "    </tr>\n",
       "    <tr>\n",
       "      <th>1766</th>\n",
       "      <td>59367.0</td>\n",
       "      <td>84.0</td>\n",
       "      <td>6.0</td>\n",
       "      <td>48.0</td>\n",
       "      <td>0.0</td>\n",
       "      <td>1.0</td>\n",
       "      <td>6.880385</td>\n",
       "      <td>1</td>\n",
       "      <td>0</td>\n",
       "      <td>1</td>\n",
       "      <td>0</td>\n",
       "      <td>571</td>\n",
       "      <td>0</td>\n",
       "      <td>1</td>\n",
       "      <td>1</td>\n",
       "      <td>5</td>\n",
       "      <td>1</td>\n",
       "      <td>0</td>\n",
       "      <td>0</td>\n",
       "      <td>1</td>\n",
       "    </tr>\n",
       "  </tbody>\n",
       "</table>\n",
       "<p>1767 rows × 20 columns</p>\n",
       "</div>\n",
       "      <button class=\"colab-df-convert\" onclick=\"convertToInteractive('df-1db79ff5-2741-4458-8458-f8b558d59e87')\"\n",
       "              title=\"Convert this dataframe to an interactive table.\"\n",
       "              style=\"display:none;\">\n",
       "        \n",
       "  <svg xmlns=\"http://www.w3.org/2000/svg\" height=\"24px\"viewBox=\"0 0 24 24\"\n",
       "       width=\"24px\">\n",
       "    <path d=\"M0 0h24v24H0V0z\" fill=\"none\"/>\n",
       "    <path d=\"M18.56 5.44l.94 2.06.94-2.06 2.06-.94-2.06-.94-.94-2.06-.94 2.06-2.06.94zm-11 1L8.5 8.5l.94-2.06 2.06-.94-2.06-.94L8.5 2.5l-.94 2.06-2.06.94zm10 10l.94 2.06.94-2.06 2.06-.94-2.06-.94-.94-2.06-.94 2.06-2.06.94z\"/><path d=\"M17.41 7.96l-1.37-1.37c-.4-.4-.92-.59-1.43-.59-.52 0-1.04.2-1.43.59L10.3 9.45l-7.72 7.72c-.78.78-.78 2.05 0 2.83L4 21.41c.39.39.9.59 1.41.59.51 0 1.02-.2 1.41-.59l7.78-7.78 2.81-2.81c.8-.78.8-2.07 0-2.86zM5.41 20L4 18.59l7.72-7.72 1.47 1.35L5.41 20z\"/>\n",
       "  </svg>\n",
       "      </button>\n",
       "      \n",
       "  <style>\n",
       "    .colab-df-container {\n",
       "      display:flex;\n",
       "      flex-wrap:wrap;\n",
       "      gap: 12px;\n",
       "    }\n",
       "\n",
       "    .colab-df-convert {\n",
       "      background-color: #E8F0FE;\n",
       "      border: none;\n",
       "      border-radius: 50%;\n",
       "      cursor: pointer;\n",
       "      display: none;\n",
       "      fill: #1967D2;\n",
       "      height: 32px;\n",
       "      padding: 0 0 0 0;\n",
       "      width: 32px;\n",
       "    }\n",
       "\n",
       "    .colab-df-convert:hover {\n",
       "      background-color: #E2EBFA;\n",
       "      box-shadow: 0px 1px 2px rgba(60, 64, 67, 0.3), 0px 1px 3px 1px rgba(60, 64, 67, 0.15);\n",
       "      fill: #174EA6;\n",
       "    }\n",
       "\n",
       "    [theme=dark] .colab-df-convert {\n",
       "      background-color: #3B4455;\n",
       "      fill: #D2E3FC;\n",
       "    }\n",
       "\n",
       "    [theme=dark] .colab-df-convert:hover {\n",
       "      background-color: #434B5C;\n",
       "      box-shadow: 0px 1px 3px 1px rgba(0, 0, 0, 0.15);\n",
       "      filter: drop-shadow(0px 1px 2px rgba(0, 0, 0, 0.3));\n",
       "      fill: #FFFFFF;\n",
       "    }\n",
       "  </style>\n",
       "\n",
       "      <script>\n",
       "        const buttonEl =\n",
       "          document.querySelector('#df-1db79ff5-2741-4458-8458-f8b558d59e87 button.colab-df-convert');\n",
       "        buttonEl.style.display =\n",
       "          google.colab.kernel.accessAllowed ? 'block' : 'none';\n",
       "\n",
       "        async function convertToInteractive(key) {\n",
       "          const element = document.querySelector('#df-1db79ff5-2741-4458-8458-f8b558d59e87');\n",
       "          const dataTable =\n",
       "            await google.colab.kernel.invokeFunction('convertToInteractive',\n",
       "                                                     [key], {});\n",
       "          if (!dataTable) return;\n",
       "\n",
       "          const docLinkHtml = 'Like what you see? Visit the ' +\n",
       "            '<a target=\"_blank\" href=https://colab.research.google.com/notebooks/data_table.ipynb>data table notebook</a>'\n",
       "            + ' to learn more about interactive tables.';\n",
       "          element.innerHTML = '';\n",
       "          dataTable['output_type'] = 'display_data';\n",
       "          await google.colab.output.renderOutput(dataTable, element);\n",
       "          const docLink = document.createElement('div');\n",
       "          docLink.innerHTML = docLinkHtml;\n",
       "          element.appendChild(docLink);\n",
       "        }\n",
       "      </script>\n",
       "    </div>\n",
       "  </div>\n",
       "  "
      ],
      "text/plain": [
       "       Income  Monthly.Premium.Auto  Months.Since.Last.Claim  \\\n",
       "0     43836.0                  73.0                     12.0   \n",
       "1     28812.0                  93.0                     17.0   \n",
       "2     77026.0                 110.0                      9.0   \n",
       "3     24599.0                  64.0                     12.0   \n",
       "4     13789.0                  79.0                      8.0   \n",
       "...       ...                   ...                      ...   \n",
       "1762  61896.0                 104.0                     25.0   \n",
       "1763  39317.0                  64.0                     22.0   \n",
       "1764  30205.0                 195.0                     24.0   \n",
       "1765  36918.0                  76.0                     28.0   \n",
       "1766  59367.0                  84.0                      6.0   \n",
       "\n",
       "      Months.Since.Policy.Inception  Number.of.Open.Complaints  \\\n",
       "0                              44.0                        0.0   \n",
       "1                               7.0                        0.0   \n",
       "2                              82.0                        2.0   \n",
       "3                              50.0                        1.0   \n",
       "4                              49.0                        0.0   \n",
       "...                             ...                        ...   \n",
       "1762                           97.0                        0.0   \n",
       "1763                           46.0                        0.0   \n",
       "1764                            1.0                        0.0   \n",
       "1765                           77.0                        3.0   \n",
       "1766                           48.0                        0.0   \n",
       "\n",
       "      Number.of.Policies  Total.Claim.Amount  Coverage  Education  \\\n",
       "0                    1.0          138.130879         0          0   \n",
       "1                    8.0          425.527834         1          1   \n",
       "2                    3.0          472.029737         2          4   \n",
       "3                    2.0           42.920271         0          0   \n",
       "4                    1.0          379.200000         1          0   \n",
       "...                  ...                 ...       ...        ...   \n",
       "1762                 1.0          461.306722         0          0   \n",
       "1763                 1.0           77.695607         0          2   \n",
       "1764                 4.0         1329.957905         0          0   \n",
       "1765                 3.0          364.800000         1          1   \n",
       "1766                 1.0            6.880385         1          0   \n",
       "\n",
       "      EmploymentStatus  Gender  Location.Geo  Location.Code  Marital.Status  \\\n",
       "0                    1       1            18              0               2   \n",
       "1                    1       0           291              2               1   \n",
       "2                    1       1           475              2               1   \n",
       "3                    1       0           234              0               1   \n",
       "4                    0       0            60              1               0   \n",
       "...                ...     ...           ...            ...             ...   \n",
       "1762                 1       0           746              2               1   \n",
       "1763                 1       0           739              0               2   \n",
       "1764                 1       0           702              1               2   \n",
       "1765                 1       1           596              1               0   \n",
       "1766                 1       0           571              0               1   \n",
       "\n",
       "      Policy.Type  Policy  Renew.Offer.Type  Sales.Channel  Vehicle.Class  \\\n",
       "0               1       3                 0              0              0   \n",
       "1               2       7                 1              1              0   \n",
       "2               0       0                 1              0              0   \n",
       "3               0       1                 1              1              0   \n",
       "4               1       5                 3              2              0   \n",
       "...           ...     ...               ...            ...            ...   \n",
       "1762            1       4                 3              2              3   \n",
       "1763            1       4                 1              1              0   \n",
       "1764            1       5                 0              0              2   \n",
       "1765            1       3                 0              1              5   \n",
       "1766            1       5                 1              0              0   \n",
       "\n",
       "      Vehicle.Size  \n",
       "0                1  \n",
       "1                1  \n",
       "2                1  \n",
       "3                1  \n",
       "4                1  \n",
       "...            ...  \n",
       "1762             1  \n",
       "1763             1  \n",
       "1764             0  \n",
       "1765             1  \n",
       "1766             1  \n",
       "\n",
       "[1767 rows x 20 columns]"
      ]
     },
     "execution_count": 202,
     "metadata": {},
     "output_type": "execute_result"
    }
   ],
   "source": [
    "te"
   ]
  },
  {
   "cell_type": "code",
   "execution_count": 203,
   "id": "7a25646b",
   "metadata": {
    "id": "7a25646b"
   },
   "outputs": [],
   "source": [
    "pred=dt.predict(te)\n"
   ]
  },
  {
   "cell_type": "code",
   "execution_count": 210,
   "id": "4ixPIdByhSYz",
   "metadata": {
    "id": "4ixPIdByhSYz"
   },
   "outputs": [],
   "source": [
    "sub[\"Customer.Lifetime.Value\"]=pred"
   ]
  },
  {
   "cell_type": "code",
   "execution_count": 211,
   "id": "Gk936-GDhSVZ",
   "metadata": {
    "id": "Gk936-GDhSVZ"
   },
   "outputs": [],
   "source": [
    "sub.to_csv(\"DecissionTree.csv\",index=False)"
   ]
  },
  {
   "cell_type": "code",
   "execution_count": 204,
   "id": "94c21083",
   "metadata": {
    "id": "94c21083"
   },
   "outputs": [],
   "source": [
    "from xgboost import XGBRegressor"
   ]
  },
  {
   "cell_type": "code",
   "execution_count": 205,
   "id": "DHFKc87XdWVY",
   "metadata": {
    "colab": {
     "base_uri": "https://localhost:8080/"
    },
    "id": "DHFKc87XdWVY",
    "outputId": "2b37c185-da33-4e17-d3f2-7be13f79f7ab"
   },
   "outputs": [
    {
     "name": "stdout",
     "output_type": "stream",
     "text": [
      "[11:45:18] WARNING: /workspace/src/objective/regression_obj.cu:152: reg:linear is now deprecated in favor of reg:squarederror.\n"
     ]
    }
   ],
   "source": [
    "xg=XGBRegressor()\n",
    "xg.fit(x_tr,y_train)\n",
    "ypred=xg.predict(x_tr)\n",
    "y_pred=xg.predict(x_te)"
   ]
  },
  {
   "cell_type": "code",
   "execution_count": 206,
   "id": "TCuEAL7bdWRx",
   "metadata": {
    "colab": {
     "base_uri": "https://localhost:8080/"
    },
    "id": "TCuEAL7bdWRx",
    "outputId": "d47ae7eb-9018-47f9-e660-5a9b7a8c1617"
   },
   "outputs": [
    {
     "name": "stdout",
     "output_type": "stream",
     "text": [
      " training score:3808.9498180658898\n",
      " test score:3752.9310808619084\n"
     ]
    }
   ],
   "source": [
    "score(y_train,ypred,y_test,y_pred)"
   ]
  },
  {
   "cell_type": "code",
   "execution_count": 207,
   "id": "alz-44UpdWPt",
   "metadata": {
    "colab": {
     "base_uri": "https://localhost:8080/"
    },
    "id": "alz-44UpdWPt",
    "outputId": "6f776dbc-7a20-45c2-b433-2cbc6e8a61cf"
   },
   "outputs": [
    {
     "name": "stdout",
     "output_type": "stream",
     "text": [
      " training score:0.6974367179832504\n",
      " test score:0.6693904860465456\n"
     ]
    }
   ],
   "source": [
    "r2(y_train,ypred,y_test,y_pred)"
   ]
  },
  {
   "cell_type": "code",
   "execution_count": 208,
   "id": "4TvO1JzIeIhG",
   "metadata": {
    "id": "4TvO1JzIeIhG"
   },
   "outputs": [],
   "source": [
    "sub[\"Customer.Lifetime.Value\"]=pred"
   ]
  },
  {
   "cell_type": "code",
   "execution_count": 209,
   "id": "m1d4CAYWeIcJ",
   "metadata": {
    "id": "m1d4CAYWeIcJ"
   },
   "outputs": [],
   "source": [
    "sub.to_csv(\"xGBReg.csv\",index=False)"
   ]
  },
  {
   "cell_type": "code",
   "execution_count": 212,
   "id": "drgjNxgemkop",
   "metadata": {
    "id": "drgjNxgemkop"
   },
   "outputs": [],
   "source": [
    "pred1=dt.predict(te)"
   ]
  },
  {
   "cell_type": "code",
   "execution_count": 213,
   "id": "vw-BPpGhmqtc",
   "metadata": {
    "id": "vw-BPpGhmqtc"
   },
   "outputs": [],
   "source": [
    "sub[\"Customer.Lifetime.Value\"]=pred1"
   ]
  },
  {
   "cell_type": "code",
   "execution_count": 214,
   "id": "6DyMmQ4jmyIh",
   "metadata": {
    "id": "6DyMmQ4jmyIh"
   },
   "outputs": [],
   "source": [
    "sub.to_csv(\"DT.csv\",index=False)"
   ]
  },
  {
   "cell_type": "code",
   "execution_count": null,
   "id": "hhcSgvWIeUY5",
   "metadata": {
    "id": "hhcSgvWIeUY5"
   },
   "outputs": [],
   "source": [
    "sub[\"Customer.Lifetime.Value\"]=pred"
   ]
  },
  {
   "cell_type": "code",
   "execution_count": 215,
   "id": "xXYF7bFkmb4W",
   "metadata": {
    "id": "xXYF7bFkmb4W"
   },
   "outputs": [],
   "source": [
    "pred3=lr.predict(te)"
   ]
  },
  {
   "cell_type": "code",
   "execution_count": 217,
   "id": "Vk8WmQTCnOw5",
   "metadata": {
    "id": "Vk8WmQTCnOw5"
   },
   "outputs": [],
   "source": [
    "sub[\"Customer.Lifetime.Value\"]=pred3"
   ]
  },
  {
   "cell_type": "code",
   "execution_count": 218,
   "id": "IhXRVvEDnUuu",
   "metadata": {
    "id": "IhXRVvEDnUuu"
   },
   "outputs": [],
   "source": [
    "sub.to_csv(\"lr.csv\",index=False)"
   ]
  },
  {
   "cell_type": "code",
   "execution_count": 220,
   "id": "UqGlb1qwnwkW",
   "metadata": {
    "id": "UqGlb1qwnwkW"
   },
   "outputs": [],
   "source": [
    "pred4=kn.predict(te)"
   ]
  },
  {
   "cell_type": "code",
   "execution_count": 221,
   "id": "bBuNv_ubnwg8",
   "metadata": {
    "id": "bBuNv_ubnwg8"
   },
   "outputs": [],
   "source": [
    "sub[\"Customer.Lifetime.Value\"]=pred4"
   ]
  },
  {
   "cell_type": "code",
   "execution_count": 222,
   "id": "SuSAJfUxoGXT",
   "metadata": {
    "id": "SuSAJfUxoGXT"
   },
   "outputs": [],
   "source": [
    "sub.to_csv(\"kn.csv\",index=False)"
   ]
  },
  {
   "cell_type": "markdown",
   "id": "3051b9d1",
   "metadata": {},
   "source": [
    "## Conclusion"
   ]
  },
  {
   "cell_type": "markdown",
   "id": "ec75fa66",
   "metadata": {},
   "source": [
    "From the above process we can conclude that Extreme Gradiant Boosting is having the best result."
   ]
  },
  {
   "cell_type": "code",
   "execution_count": null,
   "id": "1b3d4b75",
   "metadata": {},
   "outputs": [],
   "source": []
  }
 ],
 "metadata": {
  "colab": {
   "provenance": []
  },
  "kernelspec": {
   "display_name": "Python 3 (ipykernel)",
   "language": "python",
   "name": "python3"
  },
  "language_info": {
   "codemirror_mode": {
    "name": "ipython",
    "version": 3
   },
   "file_extension": ".py",
   "mimetype": "text/x-python",
   "name": "python",
   "nbconvert_exporter": "python",
   "pygments_lexer": "ipython3",
   "version": "3.9.7"
  }
 },
 "nbformat": 4,
 "nbformat_minor": 5
}
